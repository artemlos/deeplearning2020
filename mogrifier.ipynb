{
 "cells": [
  {
   "cell_type": "code",
   "execution_count": null,
   "metadata": {},
   "outputs": [],
   "source": [
    "import tensorflow as tf\n",
    "from tensorflow import keras"
   ]
  },
  {
   "cell_type": "code",
   "execution_count": null,
   "outputs": [],
   "source": [
    "# from keras.layers import Dropout\n",
    "# from keras import regularizers, optimizers\n",
    "# from keras.layers import Input, Conv1D, Dense, Flatten, Activation, UpSampling1D, MaxPooling1D, ZeroPadding1D, TimeDistributed\n",
    "# from keras.models import Model, load_model\n",
    "# from keras.layers.core import Reshape\n",
    "#\n",
    "# from keras.models import Sequential\n",
    "# from keras.layers import LSTM\n",
    "# from keras.layers import Dense\n",
    "# from keras.layers import RepeatVector\n",
    "# from keras.layers import TimeDistributed\n",
    "# from keras.utils import plot_model\n",
    "#\n",
    "# from keras.layers import Input, LSTM, RepeatVector\n",
    "# from keras.models import Model"
   ],
   "metadata": {
    "collapsed": false,
    "pycharm": {
     "name": "#%%\n"
    }
   }
  },
  {
   "cell_type": "code",
   "execution_count": null,
   "outputs": [],
   "source": [
    "class Hyperparameters():\n",
    "    r = 5\n",
    "\n",
    "class Model(object):\n",
    "    def __init__(self, params):\n",
    "        # model parameters\n",
    "        self.r = params.r\n",
    "\n",
    "    def mogrify(self, x_init, h_0, q, r):\n",
    "        x = x_init\n",
    "        h_prev = h_0\n",
    "        for i in range(1, self.r+1):\n",
    "            if i % 2 != 0:\n",
    "                x = 2 * tf.sigmoid(tf.matmul(q[i-1], h_prev)) * x\n",
    "                # print(\"odd %s, %s\" % (i, tf.shape(x)))\n",
    "            else:\n",
    "                h_prev = 2 * tf.sigmoid(tf.matmul(r[i-1], x)) * h_prev\n",
    "                # print(\"even %s, %s\" % (i, tf.shape(h_prev)))\n",
    "\n",
    "        return x, h_prev\n",
    "\n",
    "    def __call__(self, x):\n",
    "        return"
   ],
   "metadata": {
    "collapsed": false,
    "pycharm": {
     "name": "#%%\n"
    }
   }
  },
  {
   "cell_type": "code",
   "execution_count": null,
   "metadata": {},
   "outputs": [],
   "source": [
    "# add more q och r, they seem to be different matrices each\n",
    "\n",
    "h_0 = tf.random.normal([20,10]) # n x a\n",
    "x = tf.random.normal([100, 10]) # d x a\n",
    "\n",
    "params = Hyperparameters()\n",
    "model = Model(params)\n",
    "\n",
    "q = [tf.random.normal([100, 20]) for _ in range(model.r)] # m x n, where m == d\n",
    "r = [tf.random.normal([20, 100]) for _ in range(model.r)] # n x m, where m == d, it's just transposed Q\n",
    "model.mogrify(x, h_0, q, r)"
   ]
  },
  {
   "cell_type": "code",
   "execution_count": null,
   "outputs": [],
   "source": [
    "\n"
   ],
   "metadata": {
    "collapsed": false,
    "pycharm": {
     "name": "#%%\n"
    }
   }
  }
 ],
 "metadata": {
  "kernelspec": {
   "display_name": "Python 3",
   "language": "python",
   "name": "python3"
  },
  "language_info": {
   "codemirror_mode": {
    "name": "ipython",
    "version": 3
   },
   "file_extension": ".py",
   "mimetype": "text/x-python",
   "name": "python",
   "nbconvert_exporter": "python",
   "pygments_lexer": "ipython3",
   "version": "3.6.10"
  }
 },
 "nbformat": 4,
 "nbformat_minor": 4
}