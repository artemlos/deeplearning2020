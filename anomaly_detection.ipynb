{
 "cells": [
  {
   "cell_type": "code",
   "execution_count": 1,
   "metadata": {},
   "outputs": [],
   "source": [
    "from keras.layers import Dropout\n",
    "from keras import regularizers, optimizers\n",
    "from keras.layers import Input, Conv1D, Dense, Flatten, Activation, UpSampling1D, MaxPooling1D, ZeroPadding1D, TimeDistributed\n",
    "from keras.models import Model, load_model\n",
    "from keras.layers.core import Reshape\n",
    "\n",
    "from keras.models import Sequential\n",
    "from keras.layers import LSTM\n",
    "from keras.layers import Dense\n",
    "from keras.layers import RepeatVector\n",
    "from keras.layers import TimeDistributed\n",
    "from keras.utils import plot_model"
   ]
  },
  {
   "cell_type": "code",
   "execution_count": 7,
   "metadata": {},
   "outputs": [],
   "source": [
    "def LSTM_AE(input_shape):\n",
    "        \n",
    "    inputs = Input(shape=input_shape)\n",
    "    encoded = LSTM(32, activation='relu', return_sequences=True)(inputs)\n",
    "    encoded = LSTM(16, activation='relu', return_sequences=False)(encoded)\n",
    "        \n",
    "    decoded = RepeatVector(input_shape[0])(encoded)\n",
    "    decoded = LSTM(16, activation='relu', return_sequences=True)(decoded)\n",
    "    decoded = LSTM(32, activation='relu', return_sequences=True)(decoded)\n",
    "    decoded = TimeDistributed(Dense(input_shape[1]))(decoded)\n",
    "        \n",
    "    sequence_autoencoder = Model(inputs, decoded)\n",
    "    \n",
    "    return sequence_autoencoder"
   ]
  },
  {
   "cell_type": "code",
   "execution_count": 9,
   "metadata": {},
   "outputs": [
    {
     "name": "stdout",
     "output_type": "stream",
     "text": [
      "Model: \"model_7\"\n",
      "_________________________________________________________________\n",
      "Layer (type)                 Output Shape              Param #   \n",
      "=================================================================\n",
      "input_5 (InputLayer)         [(None, 100, 5)]          0         \n",
      "_________________________________________________________________\n",
      "lstm_16 (LSTM)               (None, 100, 32)           4864      \n",
      "_________________________________________________________________\n",
      "lstm_17 (LSTM)               (None, 16)                3136      \n",
      "_________________________________________________________________\n",
      "repeat_vector_4 (RepeatVecto (None, 100, 16)           0         \n",
      "_________________________________________________________________\n",
      "lstm_18 (LSTM)               (None, 100, 16)           2112      \n",
      "_________________________________________________________________\n",
      "lstm_19 (LSTM)               (None, 100, 32)           6272      \n",
      "_________________________________________________________________\n",
      "time_distributed_4 (TimeDist (None, 100, 5)            165       \n",
      "=================================================================\n",
      "Total params: 16,549\n",
      "Trainable params: 16,549\n",
      "Non-trainable params: 0\n",
      "_________________________________________________________________\n"
     ]
    }
   ],
   "source": [
    "model = LSTM_AE((100,5))\n",
    "model.summary()\n",
    "model.compile()"
   ]
  },
  {
   "cell_type": "code",
   "execution_count": null,
   "metadata": {},
   "outputs": [],
   "source": []
  }
 ],
 "metadata": {
  "kernelspec": {
   "display_name": "Python 3",
   "language": "python",
   "name": "python3"
  },
  "language_info": {
   "codemirror_mode": {
    "name": "ipython",
    "version": 3
   },
   "file_extension": ".py",
   "mimetype": "text/x-python",
   "name": "python",
   "nbconvert_exporter": "python",
   "pygments_lexer": "ipython3",
   "version": "3.7.7"
  }
 },
 "nbformat": 4,
 "nbformat_minor": 4
}
