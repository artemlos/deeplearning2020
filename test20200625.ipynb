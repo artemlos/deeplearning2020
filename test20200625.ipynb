{
 "cells": [
  {
   "cell_type": "code",
   "execution_count": 1,
   "metadata": {},
   "outputs": [],
   "source": [
    "import tensorflow as tf\n"
   ]
  },
  {
   "cell_type": "code",
   "execution_count": null,
   "metadata": {},
   "outputs": [],
   "source": [
    "class Model(object):\n",
    "    def __init__(self):\n",
    "   \n",
    "        #self.W = tf.Variable(5.0)\n",
    "        #self.b = tf.Variable(0.0)\n",
    "        self.LSTM = tf.keras.layers.LSTMCell(4)\n",
    "\n",
    "    def __call__(self, x):\n",
    "        return 0\n",
    "        #return self.W * x + self.b\n",
    "\n",
    "model = Model()\n"
   ]
  },
  {
   "cell_type": "code",
   "execution_count": null,
   "metadata": {},
   "outputs": [],
   "source": [
    "a = tf.keras.layers.LSTMCell(4,state_is_tuple=True)"
   ]
  },
  {
   "cell_type": "code",
   "execution_count": null,
   "metadata": {},
   "outputs": [],
   "source": [
    "inputs = tf.random.normal([32, 10, 8])\n",
    "rnn = tf.keras.layers.RNN(tf.keras.layers.LSTMCell(4))\n",
    "output = rnn(inputs)\n",
    "print(output.shape)"
   ]
  },
  {
   "cell_type": "code",
   "execution_count": null,
   "metadata": {},
   "outputs": [],
   "source": [
    "sample_input = tf.constant([[1,2,3]],dtype=tf.float32)\n",
    "\n",
    "LSTM_CELL_SIZE = 2\n",
    "\n",
    "lstm_cell  = tf.keras.layers.LSTM(10, stateful=True)\n",
    "\n",
    "state = (tf.zeros([1,LSTM_CELL_SIZE]),)*2\n",
    "\n",
    "output, state_new = lstm_cell(sample_input, state)"
   ]
  },
  {
   "cell_type": "code",
   "execution_count": 9,
   "metadata": {},
   "outputs": [
    {
     "ename": "AttributeError",
     "evalue": "module 'tensorflow.keras.layers' has no attribute 'LSTMStateTuple'",
     "output_type": "error",
     "traceback": [
      "\u001b[1;31m---------------------------------------------------------------------------\u001b[0m",
      "\u001b[1;31mAttributeError\u001b[0m                            Traceback (most recent call last)",
      "\u001b[1;32m<ipython-input-9-0958d1c412b5>\u001b[0m in \u001b[0;36m<module>\u001b[1;34m\u001b[0m\n\u001b[1;32m----> 1\u001b[1;33m \u001b[0mstate\u001b[0m \u001b[1;33m=\u001b[0m \u001b[0mtf\u001b[0m\u001b[1;33m.\u001b[0m\u001b[0mkeras\u001b[0m\u001b[1;33m.\u001b[0m\u001b[0mlayers\u001b[0m\u001b[1;33m.\u001b[0m\u001b[0mLSTMStateTuple\u001b[0m\u001b[1;33m(\u001b[0m\u001b[0mstate_c\u001b[0m\u001b[1;33m,\u001b[0m \u001b[0mstate_h\u001b[0m\u001b[1;33m)\u001b[0m\u001b[1;33m\u001b[0m\u001b[1;33m\u001b[0m\u001b[0m\n\u001b[0m",
      "\u001b[1;31mAttributeError\u001b[0m: module 'tensorflow.keras.layers' has no attribute 'LSTMStateTuple'"
     ]
    }
   ],
   "source": [
    "state = tf.keras.layers.LSTMStateTuple(state_c, state_h)"
   ]
  },
  {
   "cell_type": "code",
   "execution_count": 22,
   "metadata": {},
   "outputs": [
    {
     "ename": "ValueError",
     "evalue": "An `initial_state` was passed that is not compatible with `cell.state_size`. Received `state_spec`=ListWrapper([InputSpec(shape=(3, 3), ndim=2)]); however `cell.state_size` is [3, 3]",
     "output_type": "error",
     "traceback": [
      "\u001b[1;31m---------------------------------------------------------------------------\u001b[0m",
      "\u001b[1;31mValueError\u001b[0m                                Traceback (most recent call last)",
      "\u001b[1;32m<ipython-input-22-3110ce1bf8a5>\u001b[0m in \u001b[0;36m<module>\u001b[1;34m\u001b[0m\n\u001b[0;32m      1\u001b[0m \u001b[0mlstm_cell\u001b[0m  \u001b[1;33m=\u001b[0m \u001b[0mtf\u001b[0m\u001b[1;33m.\u001b[0m\u001b[0mkeras\u001b[0m\u001b[1;33m.\u001b[0m\u001b[0mlayers\u001b[0m\u001b[1;33m.\u001b[0m\u001b[0mLSTM\u001b[0m\u001b[1;33m(\u001b[0m\u001b[1;36m3\u001b[0m\u001b[1;33m,\u001b[0m \u001b[0mstateful\u001b[0m\u001b[1;33m=\u001b[0m\u001b[1;32mTrue\u001b[0m\u001b[1;33m)\u001b[0m\u001b[1;33m\u001b[0m\u001b[1;33m\u001b[0m\u001b[0m\n\u001b[0;32m      2\u001b[0m \u001b[0minputs\u001b[0m \u001b[1;33m=\u001b[0m \u001b[0mtf\u001b[0m\u001b[1;33m.\u001b[0m\u001b[0mrandom\u001b[0m\u001b[1;33m.\u001b[0m\u001b[0mnormal\u001b[0m\u001b[1;33m(\u001b[0m\u001b[1;33m[\u001b[0m\u001b[1;36m32\u001b[0m\u001b[1;33m,\u001b[0m \u001b[1;36m10\u001b[0m\u001b[1;33m,\u001b[0m \u001b[1;36m8\u001b[0m\u001b[1;33m]\u001b[0m\u001b[1;33m)\u001b[0m\u001b[1;33m\u001b[0m\u001b[1;33m\u001b[0m\u001b[0m\n\u001b[1;32m----> 3\u001b[1;33m \u001b[0mlstm_cell\u001b[0m\u001b[1;33m(\u001b[0m\u001b[0minputs\u001b[0m\u001b[1;33m,\u001b[0m \u001b[0minitial_state\u001b[0m\u001b[1;33m=\u001b[0m\u001b[0mtf\u001b[0m\u001b[1;33m.\u001b[0m\u001b[0mzeros\u001b[0m\u001b[1;33m(\u001b[0m\u001b[1;33m[\u001b[0m\u001b[1;36m3\u001b[0m\u001b[1;33m,\u001b[0m \u001b[1;36m3\u001b[0m\u001b[1;33m]\u001b[0m\u001b[1;33m)\u001b[0m\u001b[1;33m)\u001b[0m\u001b[1;33m\u001b[0m\u001b[1;33m\u001b[0m\u001b[0m\n\u001b[0m",
      "\u001b[1;32mc:\\users\\artem los\\.conda\\envs\\tf_prod\\lib\\site-packages\\tensorflow\\python\\keras\\layers\\recurrent.py\u001b[0m in \u001b[0;36m__call__\u001b[1;34m(self, inputs, initial_state, constants, **kwargs)\u001b[0m\n\u001b[0;32m    705\u001b[0m       \u001b[1;32mif\u001b[0m \u001b[0mconstants\u001b[0m \u001b[1;32mis\u001b[0m \u001b[1;32mnot\u001b[0m \u001b[1;32mNone\u001b[0m\u001b[1;33m:\u001b[0m\u001b[1;33m\u001b[0m\u001b[1;33m\u001b[0m\u001b[0m\n\u001b[0;32m    706\u001b[0m         \u001b[0mkwargs\u001b[0m\u001b[1;33m[\u001b[0m\u001b[1;34m'constants'\u001b[0m\u001b[1;33m]\u001b[0m \u001b[1;33m=\u001b[0m \u001b[0mconstants\u001b[0m\u001b[1;33m\u001b[0m\u001b[1;33m\u001b[0m\u001b[0m\n\u001b[1;32m--> 707\u001b[1;33m       \u001b[1;32mreturn\u001b[0m \u001b[0msuper\u001b[0m\u001b[1;33m(\u001b[0m\u001b[0mRNN\u001b[0m\u001b[1;33m,\u001b[0m \u001b[0mself\u001b[0m\u001b[1;33m)\u001b[0m\u001b[1;33m.\u001b[0m\u001b[0m__call__\u001b[0m\u001b[1;33m(\u001b[0m\u001b[0minputs\u001b[0m\u001b[1;33m,\u001b[0m \u001b[1;33m**\u001b[0m\u001b[0mkwargs\u001b[0m\u001b[1;33m)\u001b[0m\u001b[1;33m\u001b[0m\u001b[1;33m\u001b[0m\u001b[0m\n\u001b[0m\u001b[0;32m    708\u001b[0m \u001b[1;33m\u001b[0m\u001b[0m\n\u001b[0;32m    709\u001b[0m   def call(self,\n",
      "\u001b[1;32mc:\\users\\artem los\\.conda\\envs\\tf_prod\\lib\\site-packages\\tensorflow\\python\\keras\\engine\\base_layer.py\u001b[0m in \u001b[0;36m__call__\u001b[1;34m(self, *args, **kwargs)\u001b[0m\n\u001b[0;32m    962\u001b[0m         \u001b[1;31m# Eager execution on data tensors.\u001b[0m\u001b[1;33m\u001b[0m\u001b[1;33m\u001b[0m\u001b[1;33m\u001b[0m\u001b[0m\n\u001b[0;32m    963\u001b[0m         \u001b[1;32mwith\u001b[0m \u001b[0mbackend\u001b[0m\u001b[1;33m.\u001b[0m\u001b[0mname_scope\u001b[0m\u001b[1;33m(\u001b[0m\u001b[0mself\u001b[0m\u001b[1;33m.\u001b[0m\u001b[0m_name_scope\u001b[0m\u001b[1;33m(\u001b[0m\u001b[1;33m)\u001b[0m\u001b[1;33m)\u001b[0m\u001b[1;33m:\u001b[0m\u001b[1;33m\u001b[0m\u001b[1;33m\u001b[0m\u001b[0m\n\u001b[1;32m--> 964\u001b[1;33m           \u001b[0mself\u001b[0m\u001b[1;33m.\u001b[0m\u001b[0m_maybe_build\u001b[0m\u001b[1;33m(\u001b[0m\u001b[0minputs\u001b[0m\u001b[1;33m)\u001b[0m\u001b[1;33m\u001b[0m\u001b[1;33m\u001b[0m\u001b[0m\n\u001b[0m\u001b[0;32m    965\u001b[0m           \u001b[0mcast_inputs\u001b[0m \u001b[1;33m=\u001b[0m \u001b[0mself\u001b[0m\u001b[1;33m.\u001b[0m\u001b[0m_maybe_cast_inputs\u001b[0m\u001b[1;33m(\u001b[0m\u001b[0minputs\u001b[0m\u001b[1;33m)\u001b[0m\u001b[1;33m\u001b[0m\u001b[1;33m\u001b[0m\u001b[0m\n\u001b[0;32m    966\u001b[0m           with base_layer_utils.autocast_context_manager(\n",
      "\u001b[1;32mc:\\users\\artem los\\.conda\\envs\\tf_prod\\lib\\site-packages\\tensorflow\\python\\keras\\engine\\base_layer.py\u001b[0m in \u001b[0;36m_maybe_build\u001b[1;34m(self, inputs)\u001b[0m\n\u001b[0;32m   2414\u001b[0m         \u001b[1;31m# operations.\u001b[0m\u001b[1;33m\u001b[0m\u001b[1;33m\u001b[0m\u001b[1;33m\u001b[0m\u001b[0m\n\u001b[0;32m   2415\u001b[0m         \u001b[1;32mwith\u001b[0m \u001b[0mtf_utils\u001b[0m\u001b[1;33m.\u001b[0m\u001b[0mmaybe_init_scope\u001b[0m\u001b[1;33m(\u001b[0m\u001b[0mself\u001b[0m\u001b[1;33m)\u001b[0m\u001b[1;33m:\u001b[0m\u001b[1;33m\u001b[0m\u001b[1;33m\u001b[0m\u001b[0m\n\u001b[1;32m-> 2416\u001b[1;33m           \u001b[0mself\u001b[0m\u001b[1;33m.\u001b[0m\u001b[0mbuild\u001b[0m\u001b[1;33m(\u001b[0m\u001b[0minput_shapes\u001b[0m\u001b[1;33m)\u001b[0m  \u001b[1;31m# pylint:disable=not-callable\u001b[0m\u001b[1;33m\u001b[0m\u001b[1;33m\u001b[0m\u001b[0m\n\u001b[0m\u001b[0;32m   2417\u001b[0m       \u001b[1;31m# We must set also ensure that the layer is marked as built, and the build\u001b[0m\u001b[1;33m\u001b[0m\u001b[1;33m\u001b[0m\u001b[1;33m\u001b[0m\u001b[0m\n\u001b[0;32m   2418\u001b[0m       \u001b[1;31m# shape is stored since user defined build functions may not be calling\u001b[0m\u001b[1;33m\u001b[0m\u001b[1;33m\u001b[0m\u001b[1;33m\u001b[0m\u001b[0m\n",
      "\u001b[1;32mc:\\users\\artem los\\.conda\\envs\\tf_prod\\lib\\site-packages\\tensorflow\\python\\keras\\layers\\recurrent.py\u001b[0m in \u001b[0;36mbuild\u001b[1;34m(self, input_shape)\u001b[0m\n\u001b[0;32m    582\u001b[0m     \u001b[1;32mif\u001b[0m \u001b[0mself\u001b[0m\u001b[1;33m.\u001b[0m\u001b[0mstate_spec\u001b[0m \u001b[1;32mis\u001b[0m \u001b[1;32mnot\u001b[0m \u001b[1;32mNone\u001b[0m\u001b[1;33m:\u001b[0m\u001b[1;33m\u001b[0m\u001b[1;33m\u001b[0m\u001b[0m\n\u001b[0;32m    583\u001b[0m       \u001b[1;31m# initial_state was passed in call, check compatibility\u001b[0m\u001b[1;33m\u001b[0m\u001b[1;33m\u001b[0m\u001b[1;33m\u001b[0m\u001b[0m\n\u001b[1;32m--> 584\u001b[1;33m       \u001b[0mself\u001b[0m\u001b[1;33m.\u001b[0m\u001b[0m_validate_state_spec\u001b[0m\u001b[1;33m(\u001b[0m\u001b[0mstate_size\u001b[0m\u001b[1;33m,\u001b[0m \u001b[0mself\u001b[0m\u001b[1;33m.\u001b[0m\u001b[0mstate_spec\u001b[0m\u001b[1;33m)\u001b[0m\u001b[1;33m\u001b[0m\u001b[1;33m\u001b[0m\u001b[0m\n\u001b[0m\u001b[0;32m    585\u001b[0m     \u001b[1;32melse\u001b[0m\u001b[1;33m:\u001b[0m\u001b[1;33m\u001b[0m\u001b[1;33m\u001b[0m\u001b[0m\n\u001b[0;32m    586\u001b[0m       self.state_spec = [\n",
      "\u001b[1;32mc:\\users\\artem los\\.conda\\envs\\tf_prod\\lib\\site-packages\\tensorflow\\python\\keras\\layers\\recurrent.py\u001b[0m in \u001b[0;36m_validate_state_spec\u001b[1;34m(cell_state_sizes, init_state_specs)\u001b[0m\n\u001b[0;32m    613\u001b[0m \u001b[1;33m\u001b[0m\u001b[0m\n\u001b[0;32m    614\u001b[0m     \u001b[1;32mif\u001b[0m \u001b[0mlen\u001b[0m\u001b[1;33m(\u001b[0m\u001b[0mflat_cell_state_size\u001b[0m\u001b[1;33m)\u001b[0m \u001b[1;33m!=\u001b[0m \u001b[0mlen\u001b[0m\u001b[1;33m(\u001b[0m\u001b[0mflat_state_spec\u001b[0m\u001b[1;33m)\u001b[0m\u001b[1;33m:\u001b[0m\u001b[1;33m\u001b[0m\u001b[1;33m\u001b[0m\u001b[0m\n\u001b[1;32m--> 615\u001b[1;33m       \u001b[1;32mraise\u001b[0m \u001b[0mvalidation_error\u001b[0m\u001b[1;33m\u001b[0m\u001b[1;33m\u001b[0m\u001b[0m\n\u001b[0m\u001b[0;32m    616\u001b[0m     \u001b[1;32mfor\u001b[0m \u001b[0mi\u001b[0m \u001b[1;32min\u001b[0m \u001b[0mrange\u001b[0m\u001b[1;33m(\u001b[0m\u001b[0mlen\u001b[0m\u001b[1;33m(\u001b[0m\u001b[0mflat_cell_state_size\u001b[0m\u001b[1;33m)\u001b[0m\u001b[1;33m)\u001b[0m\u001b[1;33m:\u001b[0m\u001b[1;33m\u001b[0m\u001b[1;33m\u001b[0m\u001b[0m\n\u001b[0;32m    617\u001b[0m       if not tensor_shape.TensorShape(\n",
      "\u001b[1;31mValueError\u001b[0m: An `initial_state` was passed that is not compatible with `cell.state_size`. Received `state_spec`=ListWrapper([InputSpec(shape=(3, 3), ndim=2)]); however `cell.state_size` is [3, 3]"
     ]
    }
   ],
   "source": [
    "## Need to fix this\n",
    "\n",
    "lstm_cell  = tf.keras.layers.LSTM(3, stateful=True)\n",
    "inputs = tf.random.normal([32, 10, 8])\n",
    "lstm_cell(inputs, initial_state=tf.zeros([3, 3]))"
   ]
  },
  {
   "cell_type": "code",
   "execution_count": 12,
   "metadata": {},
   "outputs": [
    {
     "data": {
      "text/plain": [
       "<tf.Tensor: shape=(32, 10, 8), dtype=float32, numpy=\n",
       "array([[[-1.3553839 ,  0.22543177, -0.96974576, ..., -0.4643655 ,\n",
       "         -1.3434845 , -2.2847364 ],\n",
       "        [ 0.21525124,  1.3175654 , -1.0480882 , ..., -1.8437103 ,\n",
       "         -0.4809843 ,  2.1570473 ],\n",
       "        [ 0.34704047, -0.1913689 , -0.49413815, ..., -0.2703131 ,\n",
       "          0.53811693,  0.2097905 ],\n",
       "        ...,\n",
       "        [-0.95211375, -0.8028811 ,  0.0335096 , ..., -0.38335076,\n",
       "          1.5982908 , -1.2017924 ],\n",
       "        [-0.19529544,  0.23815553, -0.4349892 , ..., -1.021534  ,\n",
       "         -0.34582078, -0.55284923],\n",
       "        [ 2.3124862 , -0.9872272 ,  0.16307409, ...,  1.3425459 ,\n",
       "         -0.91684973, -1.2262602 ]],\n",
       "\n",
       "       [[ 0.6282816 , -0.14986396, -0.72394645, ...,  0.67207766,\n",
       "         -0.82883865,  0.23760779],\n",
       "        [-0.17945506,  0.80239576, -0.87099534, ...,  0.02705962,\n",
       "         -0.4172288 ,  0.46075854],\n",
       "        [ 0.5772292 , -0.04657689,  0.17163071, ...,  0.1662934 ,\n",
       "         -1.3169628 ,  1.5792682 ],\n",
       "        ...,\n",
       "        [ 0.4213059 , -2.3569653 , -0.5112725 , ...,  0.3280258 ,\n",
       "          0.05206356,  0.48777026],\n",
       "        [ 0.1988574 , -1.1071694 , -0.5583584 , ...,  0.8030964 ,\n",
       "          2.5775867 ,  0.9417439 ],\n",
       "        [ 0.3082513 , -0.0871117 ,  0.23693399, ...,  0.50168157,\n",
       "         -0.38784826,  0.7510763 ]],\n",
       "\n",
       "       [[-0.9942001 , -1.2884951 , -0.08985131, ..., -0.7713753 ,\n",
       "         -0.8828358 , -1.0217191 ],\n",
       "        [-1.1186248 ,  0.20735733,  0.3954081 , ..., -0.5939102 ,\n",
       "         -0.9689186 ,  1.8130487 ],\n",
       "        [ 2.598973  ,  1.6171432 , -0.40311432, ..., -0.33630317,\n",
       "          0.45627108,  1.3096427 ],\n",
       "        ...,\n",
       "        [ 0.36517736, -0.16075988,  0.83707273, ..., -0.02362599,\n",
       "         -2.1238503 , -1.7970163 ],\n",
       "        [-0.9615385 , -1.01135   , -1.9344517 , ...,  0.1655948 ,\n",
       "         -0.26901215, -0.5841155 ],\n",
       "        [-2.0094273 , -0.55152625, -0.06998599, ...,  0.24205437,\n",
       "         -1.0145833 , -1.8109728 ]],\n",
       "\n",
       "       ...,\n",
       "\n",
       "       [[-0.82790107,  0.41393003, -0.6841476 , ..., -0.06553365,\n",
       "         -0.0341252 ,  1.142141  ],\n",
       "        [-0.5420347 ,  0.07344837,  0.21258022, ...,  0.7820362 ,\n",
       "         -0.3090613 , -1.1274142 ],\n",
       "        [ 0.70591646, -0.96673685, -0.8449024 , ..., -0.989065  ,\n",
       "          0.4392892 ,  0.37166837],\n",
       "        ...,\n",
       "        [ 1.2445004 ,  0.48223627,  1.3519862 , ..., -0.5318663 ,\n",
       "         -0.06387767,  0.7031859 ],\n",
       "        [-0.99304485,  0.27676427, -0.97974336, ..., -0.30447426,\n",
       "          1.0165247 , -0.6302208 ],\n",
       "        [-0.3112823 , -0.7827173 ,  0.5625231 , ...,  0.9351125 ,\n",
       "         -0.36134553, -0.9808142 ]],\n",
       "\n",
       "       [[ 0.5124796 , -0.5736964 ,  0.1255993 , ..., -1.7863854 ,\n",
       "          0.5792644 , -0.7104037 ],\n",
       "        [ 2.270936  , -0.32982773,  1.4818096 , ..., -0.39598653,\n",
       "          0.44623876,  0.70485276],\n",
       "        [ 0.9560234 , -1.2768184 ,  0.92687345, ...,  0.88280576,\n",
       "          0.44628927, -0.85000587],\n",
       "        ...,\n",
       "        [-0.35963684, -0.46473038,  0.01713105, ...,  1.4047803 ,\n",
       "          0.40356237,  0.13804199],\n",
       "        [-0.9532848 , -0.13343422, -0.5888982 , ..., -0.73008394,\n",
       "          0.13705419,  0.09638753],\n",
       "        [-0.13231748,  1.7043201 , -0.74893874, ..., -0.7788758 ,\n",
       "         -1.3014317 ,  0.18081856]],\n",
       "\n",
       "       [[-0.08964616,  0.5219916 ,  0.26607394, ..., -0.5124576 ,\n",
       "          0.35676652, -0.15756156],\n",
       "        [-0.99767566,  0.3427995 , -0.8767914 , ..., -1.3294265 ,\n",
       "         -0.7911938 ,  0.45966512],\n",
       "        [ 2.2150843 , -0.33008757,  0.10719407, ..., -0.3973149 ,\n",
       "         -1.1156987 ,  0.49162647],\n",
       "        ...,\n",
       "        [-0.7239452 ,  1.0165157 ,  0.28755766, ...,  1.5663496 ,\n",
       "          0.2042938 ,  0.8536113 ],\n",
       "        [ 0.6654315 , -0.7234554 , -1.9815716 , ..., -0.5993686 ,\n",
       "          1.6352469 , -1.0954401 ],\n",
       "        [ 0.03010617,  0.38010216,  1.2796345 , ...,  0.17184687,\n",
       "         -0.41726533,  0.23388778]]], dtype=float32)>"
      ]
     },
     "execution_count": 12,
     "metadata": {},
     "output_type": "execute_result"
    }
   ],
   "source": [
    "tf.random.normal([32, 10, 8])"
   ]
  },
  {
   "cell_type": "code",
   "execution_count": null,
   "metadata": {},
   "outputs": [],
   "source": []
  }
 ],
 "metadata": {
  "kernelspec": {
   "display_name": "Python 3",
   "language": "python",
   "name": "python3"
  },
  "language_info": {
   "codemirror_mode": {
    "name": "ipython",
    "version": 3
   },
   "file_extension": ".py",
   "mimetype": "text/x-python",
   "name": "python",
   "nbconvert_exporter": "python",
   "pygments_lexer": "ipython3",
   "version": "3.7.7"
  }
 },
 "nbformat": 4,
 "nbformat_minor": 4
}
