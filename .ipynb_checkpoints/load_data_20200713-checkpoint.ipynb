{
 "cells": [
  {
   "cell_type": "code",
   "execution_count": 71,
   "metadata": {},
   "outputs": [],
   "source": [
    "import pandas as pd\n",
    "import numpy as np\n",
    "\n",
    "from keras.layers import Dropout\n",
    "from keras import regularizers, optimizers\n",
    "from keras.layers import Input, Conv1D, Dense, Flatten, Activation, UpSampling1D, MaxPooling1D, ZeroPadding1D, TimeDistributed\n",
    "from keras.models import Model, load_model\n",
    "from keras.layers.core import Reshape\n",
    "\n",
    "from keras.models import Sequential\n",
    "from keras.layers import LSTM\n",
    "from keras.layers import Dense\n",
    "from keras.layers import RepeatVector\n",
    "from keras.layers import TimeDistributed\n",
    "from keras.utils import plot_model\n"
   ]
  },
  {
   "cell_type": "markdown",
   "metadata": {},
   "source": [
    "# Dataset\n",
    "We use the ECG dataset available [here](https://www.kaggle.com/shayanfazeli/heartbeat/data?select=mitbih_train.csv). There is [an article](https://arxiv.org/pdf/1805.00794.pdf) that uses the dataset, which we can use as a reference. More details about the dataset can be found [here](https://physionet.org/content/apnea-ecg/1.0.0/)"
   ]
  },
  {
   "cell_type": "markdown",
   "metadata": {},
   "source": [
    "1. Train only on normal cases. --> determine average error.\n",
    "2. Use the error as the threshold for decisions\n",
    "3. Check if the error differs significantly for other classes."
   ]
  },
  {
   "cell_type": "markdown",
   "metadata": {},
   "source": [
    "## Load the datasets"
   ]
  },
  {
   "cell_type": "code",
   "execution_count": 72,
   "metadata": {},
   "outputs": [
    {
     "data": {
      "text/plain": [
       "(87554, 188)"
      ]
     },
     "execution_count": 72,
     "metadata": {},
     "output_type": "execute_result"
    }
   ],
   "source": [
    "train = pd.read_csv('data/mitbih_train.csv', low_memory=False, header=None)\n",
    "train.shape"
   ]
  },
  {
   "cell_type": "code",
   "execution_count": 73,
   "metadata": {},
   "outputs": [
    {
     "data": {
      "text/plain": [
       "(21892, 188)"
      ]
     },
     "execution_count": 73,
     "metadata": {},
     "output_type": "execute_result"
    }
   ],
   "source": [
    "test = pd.read_csv('data/mitbih_test.csv', low_memory=False, header=None)\n",
    "test.shape"
   ]
  },
  {
   "cell_type": "code",
   "execution_count": 74,
   "metadata": {},
   "outputs": [
    {
     "data": {
      "text/plain": [
       "(4046, 188)"
      ]
     },
     "execution_count": 74,
     "metadata": {},
     "output_type": "execute_result"
    }
   ],
   "source": [
    "normal = pd.read_csv('data/ptbdb_normal.csv',low_memory=False, header=None)\n",
    "normal.shape"
   ]
  },
  {
   "cell_type": "code",
   "execution_count": 75,
   "metadata": {},
   "outputs": [
    {
     "data": {
      "text/plain": [
       "(10506, 188)"
      ]
     },
     "execution_count": 75,
     "metadata": {},
     "output_type": "execute_result"
    }
   ],
   "source": [
    "abnormal = pd.read_csv('data/ptbdb_abnormal.csv', low_memory=False, header=None)\n",
    "abnormal.shape"
   ]
  },
  {
   "cell_type": "markdown",
   "metadata": {},
   "source": [
    "## Split into X and y"
   ]
  },
  {
   "cell_type": "code",
   "execution_count": 76,
   "metadata": {},
   "outputs": [],
   "source": [
    "labels=np.where(train[187]==0)"
   ]
  },
  {
   "cell_type": "code",
   "execution_count": 77,
   "metadata": {},
   "outputs": [],
   "source": [
    "X_train = train.to_numpy()[:,0:186]\n",
    "y_train = train.to_numpy()[:,-1]#.reshape(-1,1)\n",
    "\n",
    "#X_normal = train[train[187]==0]\n",
    "\n",
    "X_train=X_train.reshape(-1,186,1)\n",
    "X_train_normal = X_train[y_train == 0]\n",
    "X_train_normal = X_train_normal[0:5000]\n",
    "X_train_anomaly = X_train[y_train== 1]\n",
    "X_train_anomaly2 = X_train[y_train== 2]\n",
    "X_train_anomaly3 = X_train[y_train== 3]\n",
    "X_train_anomaly4 = X_train[y_train== 4]\n",
    "\n",
    "\n",
    "# TEST data\n",
    "X_test = test.to_numpy()[:,0:186].reshape(-1,186,1)\n",
    "y_test = test.to_numpy()[:,-1]#.reshape(-1,1)\n",
    "\n",
    "X_test_normal = X_test[y_test == 0]\n",
    "X_test_anomaly = X_test[y_test == 1]\n",
    "X_test_anomaly2 = X_test[y_test == 2]\n",
    "X_test_anomaly3 = X_test[y_test == 3]\n",
    "X_test_anomaly4 = X_test[y_test == 4]"
   ]
  },
  {
   "cell_type": "code",
   "execution_count": 7,
   "metadata": {},
   "outputs": [
    {
     "data": {
      "text/plain": [
       "72471"
      ]
     },
     "execution_count": 7,
     "metadata": {},
     "output_type": "execute_result"
    }
   ],
   "source": [
    "len(labels[0])"
   ]
  },
  {
   "cell_type": "code",
   "execution_count": 10,
   "metadata": {},
   "outputs": [
    {
     "data": {
      "text/plain": [
       "2223"
      ]
     },
     "execution_count": 10,
     "metadata": {},
     "output_type": "execute_result"
    }
   ],
   "source": [
    "len(np.where(train[187]==1)[0])"
   ]
  },
  {
   "cell_type": "code",
   "execution_count": 23,
   "metadata": {},
   "outputs": [],
   "source": [
    "X_normal = train[train[187]==0]"
   ]
  },
  {
   "cell_type": "code",
   "execution_count": 45,
   "metadata": {},
   "outputs": [
    {
     "data": {
      "text/plain": [
       "(87554, 186, 1)"
      ]
     },
     "execution_count": 45,
     "metadata": {},
     "output_type": "execute_result"
    }
   ],
   "source": [
    "X_train.shape"
   ]
  },
  {
   "cell_type": "code",
   "execution_count": 46,
   "metadata": {},
   "outputs": [
    {
     "data": {
      "text/plain": [
       "(5000, 186, 1)"
      ]
     },
     "execution_count": 46,
     "metadata": {},
     "output_type": "execute_result"
    }
   ],
   "source": [
    "X_train_normal.shape"
   ]
  },
  {
   "cell_type": "markdown",
   "metadata": {},
   "source": [
    "## Train"
   ]
  },
  {
   "cell_type": "code",
   "execution_count": 78,
   "metadata": {},
   "outputs": [],
   "source": [
    "def LSTM_AE(input_shape):\n",
    "        \n",
    "    inputs = Input(shape=input_shape)\n",
    "    encoded = LSTM(32, activation='tanh', return_sequences=True)(inputs)\n",
    "    encoded = LSTM(16, activation='tanh', return_sequences=False)(encoded)\n",
    "        \n",
    "    decoded = RepeatVector(input_shape[0])(encoded)\n",
    "    decoded = LSTM(16, activation='tanh', return_sequences=True)(decoded)\n",
    "    decoded = LSTM(32, activation='tanh', return_sequences=True)(decoded)\n",
    "    decoded = TimeDistributed(Dense(input_shape[1]))(decoded)\n",
    "        \n",
    "    sequence_autoencoder = Model(inputs, decoded)\n",
    "    \n",
    "    return sequence_autoencoder"
   ]
  },
  {
   "cell_type": "code",
   "execution_count": null,
   "metadata": {},
   "outputs": [],
   "source": [
    "def LSTM_AE_Deep(input_shape):\n",
    "    \n",
    "    \"\"\"\n",
    "    Input shape = (data_dim, number_of_features)\n",
    "    \n",
    "    Returns both the autoencoder and just the encoder.\n",
    "    \"\"\"\n",
    "    \n",
    "    inputs = Input(shape=input_shape)\n",
    "    encoded = LSTM(32, activation='tanh', return_sequences=True)(inputs)\n",
    "    encoded = LSTM(16, activation='tanh', return_sequences=True)(encoded)\n",
    "    encoded = LSTM(8, activation='tanh', return_sequences=False)(encoded)\n",
    "    #encoded = LSTM(4, activation='relu', return_sequences=False)(encoded)\n",
    "    \n",
    "    decoded = RepeatVector(input_shape[0])(encoded)\n",
    "    #decoded = LSTM(4, activation='relu', return_sequences=True)(decoded)\n",
    "    decoded = LSTM(8, activation='tanh', return_sequences=True)(decoded)\n",
    "    decoded = LSTM(16, activation='tanh', return_sequences=True)(decoded)\n",
    "    decoded = LSTM(32, activation='tanh', return_sequences=True)(decoded)\n",
    "    decoded = TimeDistributed(Dense(input_shape[1]))(decoded)\n",
    "    \n",
    "    sequence_autoencoder = Model(inputs, decoded)\n",
    "    encoder = Model(inputs, encoded)\n",
    "    \n",
    "    return (sequence_autoencoder, encoder)"
   ]
  },
  {
   "cell_type": "code",
   "execution_count": 34,
   "metadata": {},
   "outputs": [],
   "source": [
    "def LSTM_AE_Deep_v2(input_shape):\n",
    "    \n",
    "    \"\"\"\n",
    "    Input shape = (data_dim, number_of_features)\n",
    "    \n",
    "    Returns both the autoencoder and just the encoder.\n",
    "    \"\"\"\n",
    "    \n",
    "    inputs = Input(shape=input_shape)\n",
    "    encoded = LSTM(64, activation='tanh', return_sequences=True)(inputs)\n",
    "    encoded = LSTM(32, activation='tanh', return_sequences=True)(encoded)\n",
    "    encoded = LSTM(16, activation='tanh', return_sequences=False)(encoded)\n",
    "    #encoded = LSTM(4, activation='relu', return_sequences=False)(encoded)\n",
    "    \n",
    "    decoded = RepeatVector(input_shape[0])(encoded)\n",
    "    #decoded = LSTM(4, activation='relu', return_sequences=True)(decoded)\n",
    "    decoded = LSTM(16, activation='tanh', return_sequences=True)(decoded)\n",
    "    decoded = LSTM(32, activation='tanh', return_sequences=True)(decoded)\n",
    "    decoded = LSTM(64, activation='tanh', return_sequences=True)(decoded)\n",
    "    decoded = TimeDistributed(Dense(input_shape[1]))(decoded)\n",
    "    \n",
    "    sequence_autoencoder = Model(inputs, decoded)\n",
    "    encoder = Model(inputs, encoded)\n",
    "    \n",
    "    return (sequence_autoencoder, encoder)"
   ]
  },
  {
   "cell_type": "code",
   "execution_count": 55,
   "metadata": {},
   "outputs": [],
   "source": [
    "def LSTM_AE_Deep_v3(input_shape):\n",
    "    \n",
    "    \"\"\"\n",
    "    Input shape = (data_dim, number_of_features)\n",
    "    \n",
    "    Returns both the autoencoder and just the encoder.\n",
    "    \"\"\"\n",
    "    \n",
    "    inputs = Input(shape=input_shape)\n",
    "    encoded = LSTM(128, activation='tanh', return_sequences=True)(inputs)\n",
    "    encoded = LSTM(64, activation='tanh', return_sequences=True)(inputs)\n",
    "    encoded = LSTM(32, activation='tanh', return_sequences=True)(encoded)\n",
    "    encoded = LSTM(16, activation='tanh', return_sequences=False)(encoded)\n",
    "    #encoded = LSTM(4, activation='relu', return_sequences=False)(encoded)\n",
    "    \n",
    "    decoded = RepeatVector(input_shape[0])(encoded)\n",
    "    #decoded = LSTM(4, activation='relu', return_sequences=True)(decoded)\n",
    "    decoded = LSTM(16, activation='tanh', return_sequences=True)(decoded)\n",
    "    decoded = LSTM(32, activation='tanh', return_sequences=True)(decoded)\n",
    "    decoded = LSTM(64, activation='tanh', return_sequences=True)(decoded)\n",
    "    decoded = LSTM(128, activation='tanh', return_sequences=True)(decoded)\n",
    "    decoded = TimeDistributed(Dense(input_shape[1]))(decoded)\n",
    "    \n",
    "    sequence_autoencoder = Model(inputs, decoded)\n",
    "    encoder = Model(inputs, encoded)\n",
    "    \n",
    "    return (sequence_autoencoder, encoder)"
   ]
  },
  {
   "cell_type": "code",
   "execution_count": 23,
   "metadata": {},
   "outputs": [],
   "source": [
    "def TCN_AE(input_shape = (100,8)):  \n",
    "    input_layer = Input(shape=input_shape)\n",
    "    \n",
    "    filter_c = input_shape[0]#+input_shape[1] -1\n",
    "    \n",
    "    #encoder\n",
    "    \n",
    "    x = Conv1D(filters=int(filter_c), kernel_size=2, dilation_rate=1,\n",
    "                   padding='causal', strides=1, input_shape=input_shape,\n",
    "                   kernel_regularizer = regularizers.l2(0.01), activation='relu')(input_layer)\n",
    "    x = MaxPooling1D(pool_size = 2, strides=2)(x)\n",
    "    x = Conv1D(filters=int(filter_c/2), kernel_size=2, dilation_rate=1,\n",
    "                   padding='causal', strides=1, \n",
    "                   kernel_regularizer = regularizers.l2(0.01), activation='relu')(x)\n",
    "    x = MaxPooling1D(pool_size = 2, strides=2)(x)\n",
    "    x = Conv1D(filters=int(filter_c/4), kernel_size=2, dilation_rate=1,\n",
    "                   padding='causal', strides=1, \n",
    "                   kernel_regularizer = regularizers.l2(0.01), activation='relu')(x)\n",
    "    x = MaxPooling1D(pool_size = 2, strides=2)(x)\n",
    "    x = Conv1D(filters=int(filter_c/8), kernel_size=2, dilation_rate=1,\n",
    "                   padding='causal', strides=1, \n",
    "                   kernel_regularizer = regularizers.l2(0.01), activation='relu')(x)\n",
    "    x = Dense(int(filter_c/16), activation='relu')(x)\n",
    "    encoder = Model(input_layer, x)\n",
    "    \n",
    "    #decoder\n",
    "    x = UpSampling1D(size=2)(x)\n",
    "    x = Conv1D(filters=int(filter_c/8), kernel_size=2, dilation_rate=1,\n",
    "                   padding='causal', strides=1, \n",
    "                   kernel_regularizer = regularizers.l2(0.01), activation='relu')(x)\n",
    "    x = UpSampling1D(size=2)(x)\n",
    "    x = Conv1D(filters=int(filter_c/4), kernel_size=2, dilation_rate=1,\n",
    "                   padding='causal', strides=1, \n",
    "                   kernel_regularizer = regularizers.l2(0.01), activation='relu')(x)\n",
    "    x = UpSampling1D(size=2)(x)\n",
    "    x = Conv1D(filters=int(filter_c/2), kernel_size=2, dilation_rate=1,\n",
    "                   padding='causal', strides=1, \n",
    "                   kernel_regularizer = regularizers.l2(0.01), activation='relu')(x)\n",
    "    x = ZeroPadding1D(padding=(0,4))(x)\n",
    "    x = Conv1D(filters=int(filter_c), kernel_size=2, dilation_rate=1,\n",
    "                   padding='causal', strides=1, input_shape=input_shape,\n",
    "                   kernel_regularizer = regularizers.l2(0.01), activation='relu')(x)\n",
    "    #flat = Flatten()(conv_6)\n",
    "    output_layer = TimeDistributed(Dense(input_shape[1]))(x)\n",
    "    \n",
    "    TCN = Model(inputs = input_layer, outputs = output_layer)\n",
    "            \n",
    "    return (TCN, encoder)"
   ]
  },
  {
   "cell_type": "code",
   "execution_count": 79,
   "metadata": {},
   "outputs": [
    {
     "name": "stdout",
     "output_type": "stream",
     "text": [
      "Model: \"model_29\"\n",
      "_________________________________________________________________\n",
      "Layer (type)                 Output Shape              Param #   \n",
      "=================================================================\n",
      "input_16 (InputLayer)        [(None, 186, 1)]          0         \n",
      "_________________________________________________________________\n",
      "lstm_42 (LSTM)               (None, 186, 32)           4352      \n",
      "_________________________________________________________________\n",
      "lstm_43 (LSTM)               (None, 16)                3136      \n",
      "_________________________________________________________________\n",
      "repeat_vector_7 (RepeatVecto (None, 186, 16)           0         \n",
      "_________________________________________________________________\n",
      "lstm_44 (LSTM)               (None, 186, 16)           2112      \n",
      "_________________________________________________________________\n",
      "lstm_45 (LSTM)               (None, 186, 32)           6272      \n",
      "_________________________________________________________________\n",
      "time_distributed_15 (TimeDis (None, 186, 1)            33        \n",
      "=================================================================\n",
      "Total params: 15,905\n",
      "Trainable params: 15,905\n",
      "Non-trainable params: 0\n",
      "_________________________________________________________________\n"
     ]
    }
   ],
   "source": [
    "model = LSTM_AE((186,1))\n",
    "model.summary()\n",
    "model.compile(optimizer='adam', loss='mae', metrics=None)"
   ]
  },
  {
   "cell_type": "code",
   "execution_count": 35,
   "metadata": {},
   "outputs": [
    {
     "name": "stdout",
     "output_type": "stream",
     "text": [
      "Model: \"model_25\"\n",
      "_________________________________________________________________\n",
      "Layer (type)                 Output Shape              Param #   \n",
      "=================================================================\n",
      "input_14 (InputLayer)        [(None, 186, 1)]          0         \n",
      "_________________________________________________________________\n",
      "lstm_28 (LSTM)               (None, 186, 64)           16896     \n",
      "_________________________________________________________________\n",
      "lstm_29 (LSTM)               (None, 186, 32)           12416     \n",
      "_________________________________________________________________\n",
      "lstm_30 (LSTM)               (None, 16)                3136      \n",
      "_________________________________________________________________\n",
      "repeat_vector_5 (RepeatVecto (None, 186, 16)           0         \n",
      "_________________________________________________________________\n",
      "lstm_31 (LSTM)               (None, 186, 16)           2112      \n",
      "_________________________________________________________________\n",
      "lstm_32 (LSTM)               (None, 186, 32)           6272      \n",
      "_________________________________________________________________\n",
      "lstm_33 (LSTM)               (None, 186, 64)           24832     \n",
      "_________________________________________________________________\n",
      "time_distributed_13 (TimeDis (None, 186, 1)            65        \n",
      "=================================================================\n",
      "Total params: 65,729\n",
      "Trainable params: 65,729\n",
      "Non-trainable params: 0\n",
      "_________________________________________________________________\n"
     ]
    }
   ],
   "source": [
    "model = LSTM_AE_Deep_v2((186,1))[0]\n",
    "model.summary()\n",
    "model.compile(optimizer='adam', loss='mae', metrics=None)"
   ]
  },
  {
   "cell_type": "code",
   "execution_count": 56,
   "metadata": {},
   "outputs": [
    {
     "name": "stdout",
     "output_type": "stream",
     "text": [
      "Model: \"model_27\"\n",
      "_________________________________________________________________\n",
      "Layer (type)                 Output Shape              Param #   \n",
      "=================================================================\n",
      "input_15 (InputLayer)        [(None, 186, 1)]          0         \n",
      "_________________________________________________________________\n",
      "lstm_35 (LSTM)               (None, 186, 64)           16896     \n",
      "_________________________________________________________________\n",
      "lstm_36 (LSTM)               (None, 186, 32)           12416     \n",
      "_________________________________________________________________\n",
      "lstm_37 (LSTM)               (None, 16)                3136      \n",
      "_________________________________________________________________\n",
      "repeat_vector_6 (RepeatVecto (None, 186, 16)           0         \n",
      "_________________________________________________________________\n",
      "lstm_38 (LSTM)               (None, 186, 16)           2112      \n",
      "_________________________________________________________________\n",
      "lstm_39 (LSTM)               (None, 186, 32)           6272      \n",
      "_________________________________________________________________\n",
      "lstm_40 (LSTM)               (None, 186, 64)           24832     \n",
      "_________________________________________________________________\n",
      "lstm_41 (LSTM)               (None, 186, 128)          98816     \n",
      "_________________________________________________________________\n",
      "time_distributed_14 (TimeDis (None, 186, 1)            129       \n",
      "=================================================================\n",
      "Total params: 164,609\n",
      "Trainable params: 164,609\n",
      "Non-trainable params: 0\n",
      "_________________________________________________________________\n"
     ]
    }
   ],
   "source": [
    "model = LSTM_AE_Deep_v3((186,1))[0]\n",
    "model.summary()\n",
    "model.compile(optimizer='adam', loss='mae', metrics=None)"
   ]
  },
  {
   "cell_type": "code",
   "execution_count": 24,
   "metadata": {},
   "outputs": [
    {
     "name": "stdout",
     "output_type": "stream",
     "text": [
      "Model: \"model_16\"\n",
      "_________________________________________________________________\n",
      "Layer (type)                 Output Shape              Param #   \n",
      "=================================================================\n",
      "input_9 (InputLayer)         [(None, 186, 1)]          0         \n",
      "_________________________________________________________________\n",
      "conv1d_56 (Conv1D)           (None, 186, 186)          558       \n",
      "_________________________________________________________________\n",
      "max_pooling1d_21 (MaxPooling (None, 93, 186)           0         \n",
      "_________________________________________________________________\n",
      "conv1d_57 (Conv1D)           (None, 93, 46)            17158     \n",
      "_________________________________________________________________\n",
      "max_pooling1d_22 (MaxPooling (None, 46, 46)            0         \n",
      "_________________________________________________________________\n",
      "conv1d_58 (Conv1D)           (None, 46, 46)            4278      \n",
      "_________________________________________________________________\n",
      "max_pooling1d_23 (MaxPooling (None, 23, 46)            0         \n",
      "_________________________________________________________________\n",
      "conv1d_59 (Conv1D)           (None, 23, 23)            2139      \n",
      "_________________________________________________________________\n",
      "dense_15 (Dense)             (None, 23, 11)            264       \n",
      "_________________________________________________________________\n",
      "up_sampling1d_21 (UpSampling (None, 46, 11)            0         \n",
      "_________________________________________________________________\n",
      "conv1d_60 (Conv1D)           (None, 46, 23)            529       \n",
      "_________________________________________________________________\n",
      "up_sampling1d_22 (UpSampling (None, 92, 23)            0         \n",
      "_________________________________________________________________\n",
      "conv1d_61 (Conv1D)           (None, 92, 46)            2162      \n",
      "_________________________________________________________________\n",
      "up_sampling1d_23 (UpSampling (None, 184, 46)           0         \n",
      "_________________________________________________________________\n",
      "conv1d_62 (Conv1D)           (None, 184, 93)           8649      \n",
      "_________________________________________________________________\n",
      "zero_padding1d_7 (ZeroPaddin (None, 188, 93)           0         \n",
      "_________________________________________________________________\n",
      "conv1d_63 (Conv1D)           (None, 188, 186)          34782     \n",
      "_________________________________________________________________\n",
      "time_distributed_8 (TimeDist (None, 188, 1)            187       \n",
      "=================================================================\n",
      "Total params: 70,706\n",
      "Trainable params: 70,706\n",
      "Non-trainable params: 0\n",
      "_________________________________________________________________\n"
     ]
    }
   ],
   "source": [
    "# TODO: output shape does not seem ok.\n",
    "#model = TCN_AE((186,1))[0]\n",
    "#model.summary()"
   ]
  },
  {
   "cell_type": "code",
   "execution_count": 80,
   "metadata": {},
   "outputs": [
    {
     "name": "stdout",
     "output_type": "stream",
     "text": [
      "Epoch 1/5\n",
      "149/149 [==============================] - 38s 253ms/step - loss: 0.1353 - val_loss: 0.1003\n",
      "Epoch 2/5\n",
      "149/149 [==============================] - 37s 250ms/step - loss: 0.0968 - val_loss: 0.0795\n",
      "Epoch 3/5\n",
      "149/149 [==============================] - 40s 270ms/step - loss: 0.0811 - val_loss: 0.0700\n",
      "Epoch 4/5\n",
      "149/149 [==============================] - 36s 243ms/step - loss: 0.0745 - val_loss: 0.0651\n",
      "Epoch 5/5\n",
      "149/149 [==============================] - 39s 260ms/step - loss: 0.0713 - val_loss: 0.0621\n"
     ]
    }
   ],
   "source": [
    "history = model.fit(X_train_normal, X_train_normal, epochs=5, verbose=1, shuffle=True, validation_split=0.05)"
   ]
  },
  {
   "cell_type": "markdown",
   "metadata": {},
   "source": [
    "### Apply model on train\n",
    "We will now compute the the loss for each class on the train set. This will guide us in setting a decision boundary, that we can later use on the test set."
   ]
  },
  {
   "cell_type": "code",
   "execution_count": 37,
   "metadata": {},
   "outputs": [],
   "source": [
    "from matplotlib import pyplot as plt"
   ]
  },
  {
   "cell_type": "code",
   "execution_count": 13,
   "metadata": {},
   "outputs": [
    {
     "data": {
      "text/plain": [
       "(5000, 186, 1)"
      ]
     },
     "execution_count": 13,
     "metadata": {},
     "output_type": "execute_result"
    }
   ],
   "source": [
    "model.predict(X_train_normal).shape"
   ]
  },
  {
   "cell_type": "code",
   "execution_count": 64,
   "metadata": {},
   "outputs": [],
   "source": [
    "x_train_pred = model.predict(X_train_normal)\n",
    "train_mae_loss = np.mean(np.abs(x_train_pred - X_train_normal), axis=1)"
   ]
  },
  {
   "cell_type": "code",
   "execution_count": 65,
   "metadata": {},
   "outputs": [
    {
     "data": {
      "image/png": "[encoded data removed]",
      "text/plain": [
       "<Figure size 432x288 with 1 Axes>"
      ]
     },
     "metadata": {
      "needs_background": "light"
     },
     "output_type": "display_data"
    }
   ],
   "source": [
    "plt.hist(train_mae_loss, bins=10)\n",
    "plt.xlabel(\"Train MAE loss\")\n",
    "plt.ylabel(\"No of samples\")\n",
    "plt.show()"
   ]
  },
  {
   "cell_type": "code",
   "execution_count": 66,
   "metadata": {},
   "outputs": [
    {
     "name": "stdout",
     "output_type": "stream",
     "text": [
      "0.3218643922478922\n"
     ]
    }
   ],
   "source": [
    "print(np.max(train_mae_loss))"
   ]
  },
  {
   "cell_type": "code",
   "execution_count": null,
   "metadata": {},
   "outputs": [],
   "source": [
    "print(model.evaluate(X_train_normal,X_train_normal, verbose=3))\n",
    "print(model.evaluate(X_train_anomaly2,X_train_anomaly2, verbose=3))\n",
    "print(model.evaluate(X_train_anomaly3,X_train_anomaly3, verbose=3))\n",
    "print(model.evaluate(X_train_anomaly4,X_train_anomaly4, verbose=3))"
   ]
  },
  {
   "cell_type": "markdown",
   "metadata": {},
   "source": [
    "### Conclusion and test set\n",
    "It's clear that our model (trained on fewer samples than we have) detects most of the nomalies (except class 3). Now, let's do the same on the test set. We can set the decision boundary to `0.16`."
   ]
  },
  {
   "cell_type": "code",
   "execution_count": 15,
   "metadata": {},
   "outputs": [
    {
     "name": "stdout",
     "output_type": "stream",
     "text": [
      "0.07309737056493759\n",
      "0.07742656022310257\n",
      "0.09911613911390305\n",
      "0.07295534014701843\n",
      "0.09004269540309906\n"
     ]
    }
   ],
   "source": [
    "print(model.evaluate(X_test_normal,X_test_normal, verbose=3))\n",
    "print(model.evaluate(X_test_anomaly,X_test_anomaly, verbose=3))\n",
    "print(model.evaluate(X_test_anomaly2,X_test_anomaly2, verbose=3))\n",
    "print(model.evaluate(X_test_anomaly3,X_test_anomaly3, verbose=3))\n",
    "print(model.evaluate(X_test_anomaly4,X_test_anomaly4, verbose=3))"
   ]
  },
  {
   "cell_type": "code",
   "execution_count": null,
   "metadata": {},
   "outputs": [],
   "source": []
  },
  {
   "cell_type": "code",
   "execution_count": 58,
   "metadata": {},
   "outputs": [],
   "source": [
    "from errormetrics import * "
   ]
  },
  {
   "cell_type": "code",
   "execution_count": 59,
   "metadata": {},
   "outputs": [],
   "source": [
    "x_normal_pred = model.predict(X_test_normal)\n",
    "normal_mae_loss = np.mean(np.abs(x_normal_pred - X_test_normal), axis=1)\n",
    "\n",
    "x_anomaly_pred = model.predict(X_test_anomaly)\n",
    "anomaly_mae_loss = np.mean(np.abs(x_anomaly_pred - X_test_anomaly), axis=1)\n",
    "\n",
    "x_anomaly2_pred = model.predict(X_test_anomaly2)\n",
    "anomaly2_mae_loss = np.mean(np.abs(x_anomaly2_pred - X_test_anomaly2), axis=1)\n",
    "\n",
    "x_anomaly3_pred = model.predict(X_test_anomaly3)\n",
    "anomaly3_mae_loss = np.mean(np.abs(x_anomaly3_pred - X_test_anomaly3), axis=1)\n",
    "\n",
    "x_anomaly4_pred = model.predict(X_test_anomaly4)\n",
    "anomaly4_mae_loss = np.mean(np.abs(x_anomaly4_pred - X_test_anomaly4), axis=1)"
   ]
  },
  {
   "cell_type": "code",
   "execution_count": 60,
   "metadata": {},
   "outputs": [],
   "source": [
    "error_threshold = 0.15"
   ]
  },
  {
   "cell_type": "code",
   "execution_count": 61,
   "metadata": {},
   "outputs": [],
   "source": [
    "# test set with normal samples\n",
    "\n",
    "# \"positive\" means it's normal. \"negative\" means there is an anomaly.\n",
    "\n",
    "def compute_metrics(error_threshold):\n",
    "    FN = len(normal_mae_loss[normal_mae_loss>=error_threshold])\n",
    "    TP = len(normal_mae_loss[normal_mae_loss<error_threshold])\n",
    "\n",
    "    FP = len(anomaly_mae_loss[anomaly_mae_loss<error_threshold]) +\\\n",
    "    len(anomaly2_mae_loss[anomaly2_mae_loss<error_threshold]) +\\\n",
    "    len(anomaly3_mae_loss[anomaly3_mae_loss<error_threshold]) +\\\n",
    "    len(anomaly4_mae_loss[anomaly4_mae_loss<error_threshold])\n",
    "\n",
    "    TN = len(anomaly_mae_loss[anomaly_mae_loss>=error_threshold]) +\\\n",
    "    len(anomaly2_mae_loss[anomaly2_mae_loss>=error_threshold]) +\\\n",
    "    len(anomaly3_mae_loss[anomaly3_mae_loss>=error_threshold]) +\\\n",
    "    len(anomaly4_mae_loss[anomaly4_mae_loss>=error_threshold])\n",
    "\n",
    "\n",
    "    precision = TP / (TP+FP)\n",
    "    recall = TP / (TP+FN)\n",
    "    F1_score = 2* (precision * recall)/(precision + recall)\n",
    "    accurracy = (TP + TN) / (TP+TN+FP+FN)\n",
    "\n",
    "    print(precision, \"precision\")\n",
    "    print(recall, \"recall\")\n",
    "    print(F1_score, \"F1 score\")\n",
    "    print(accurracy, \"accurracy\")\n"
   ]
  },
  {
   "cell_type": "code",
   "execution_count": 181,
   "metadata": {},
   "outputs": [],
   "source": [
    "def cost_function(error_threshold, metric='accuracy'):\n",
    "    FN = len(normal_mae_loss[normal_mae_loss>=error_threshold])\n",
    "    TP = len(normal_mae_loss[normal_mae_loss<error_threshold])\n",
    "\n",
    "    FP = len(anomaly_mae_loss[anomaly_mae_loss<error_threshold]) +\\\n",
    "    len(anomaly2_mae_loss[anomaly2_mae_loss<error_threshold]) +\\\n",
    "    len(anomaly3_mae_loss[anomaly3_mae_loss<error_threshold]) +\\\n",
    "    len(anomaly4_mae_loss[anomaly4_mae_loss<error_threshold])\n",
    "\n",
    "    TN = len(anomaly_mae_loss[anomaly_mae_loss>=error_threshold]) +\\\n",
    "    len(anomaly2_mae_loss[anomaly2_mae_loss>=error_threshold]) +\\\n",
    "    len(anomaly3_mae_loss[anomaly3_mae_loss>=error_threshold]) +\\\n",
    "    len(anomaly4_mae_loss[anomaly4_mae_loss>=error_threshold])\n",
    "\n",
    "    if TP == 0 and FP == 0 or TP == 0 and FN==0:\n",
    "        return 0\n",
    "    \n",
    "    precision = TP / (TP+FP)\n",
    "    recall = TP / (TP+FN)\n",
    "    F1_score = 2* (precision * recall)/(precision + recall)\n",
    "    accuracy = (TP + TN) / (TP+TN+FP+FN)\n",
    "    \n",
    "    if metric=='accuracy':\n",
    "        return accuracy\n",
    "    elif metric=='f1_score':\n",
    "        return F1_score\n",
    "    else:\n",
    "        raise ValueError('Not a valid metric')\n",
    "    "
   ]
  },
  {
   "cell_type": "code",
   "execution_count": 187,
   "metadata": {},
   "outputs": [],
   "source": [
    "import random\n",
    "import math\n",
    "def anneal(sol, metric='accuracy',it=100):\n",
    "    old_cost = cost_function(sol, metric)\n",
    "    T = 1.0\n",
    "    T_min = 0.00001\n",
    "    alpha = 0.9\n",
    "    while T > T_min:\n",
    "        i = 1\n",
    "        while i <= it:\n",
    "            new_sol = neighbor(sol)\n",
    "            new_cost = cost_function(new_sol, metric)\n",
    "            ap = acceptance_probability(old_cost, new_cost, T)\n",
    "            if ap > random.random():\n",
    "                sol = new_sol\n",
    "                old_cost = new_cost\n",
    "            i += 1\n",
    "        T = T*alpha\n",
    "    return sol, old_cost\n",
    "\n",
    "def acceptance_probability(old_cost, new_cost, T):\n",
    "    return math.exp((new_cost-old_cost)/T)\n",
    "\n",
    "def neighbor(sol):\n",
    "    #return sol + random.random()/100-0.005\n",
    "    return random.random()"
   ]
  },
  {
   "cell_type": "code",
   "execution_count": 179,
   "metadata": {},
   "outputs": [
    {
     "data": {
      "text/plain": [
       "(0.18030739751104596, 0.8352822949022474)"
      ]
     },
     "execution_count": 179,
     "metadata": {},
     "output_type": "execute_result"
    }
   ],
   "source": [
    "anneal(0.5)"
   ]
  },
  {
   "cell_type": "code",
   "execution_count": 188,
   "metadata": {},
   "outputs": [
    {
     "data": {
      "text/plain": [
       "(0.18540983878905282, 0.9073060416827281)"
      ]
     },
     "execution_count": 188,
     "metadata": {},
     "output_type": "execute_result"
    }
   ],
   "source": [
    "anneal(0.1, metric='f1_score',it=1000)"
   ]
  },
  {
   "cell_type": "code",
   "execution_count": 105,
   "metadata": {},
   "outputs": [
    {
     "name": "stdout",
     "output_type": "stream",
     "text": [
      "0.8276823249862914 precision\n",
      "0.9997240313500386 recall\n",
      "0.9056047197640117 F1 score\n",
      "0.8275169011511054 accurracy\n"
     ]
    }
   ],
   "source": [
    "compute_metrics(0.3)"
   ]
  },
  {
   "cell_type": "code",
   "execution_count": 101,
   "metadata": {},
   "outputs": [
    {
     "name": "stdout",
     "output_type": "stream",
     "text": [
      "0.8277138157894737 precision\n",
      "0.9999448062700077 recall\n",
      "0.9057141428785682 F1 score\n",
      "0.8276996162981911 accurracy\n"
     ]
    }
   ],
   "source": [
    "compute_metrics(0.3218643922478922)"
   ]
  },
  {
   "cell_type": "code",
   "execution_count": null,
   "metadata": {},
   "outputs": [],
   "source": []
  },
  {
   "cell_type": "code",
   "execution_count": null,
   "metadata": {},
   "outputs": [],
   "source": []
  },
  {
   "cell_type": "code",
   "execution_count": null,
   "metadata": {},
   "outputs": [],
   "source": []
  },
  {
   "cell_type": "code",
   "execution_count": null,
   "metadata": {},
   "outputs": [],
   "source": []
  },
  {
   "cell_type": "code",
   "execution_count": null,
   "metadata": {},
   "outputs": [],
   "source": []
  },
  {
   "cell_type": "code",
   "execution_count": 34,
   "metadata": {},
   "outputs": [
    {
     "data": {
      "image/png": "[encoded data removed]",
      "text/plain": [
       "<Figure size 432x288 with 1 Axes>"
      ]
     },
     "metadata": {
      "needs_background": "light"
     },
     "output_type": "display_data"
    }
   ],
   "source": [
    "x_test_pred = model.predict(X_test_anomaly)\n",
    "test_mae_loss = np.mean(np.abs(x_test_pred - X_test_anomaly), axis=1)\n",
    "plt.hist(test_mae_loss, bins=10)\n",
    "plt.xlabel(\"Test MAE loss\")\n",
    "plt.ylabel(\"No of samples\")\n",
    "plt.show()"
   ]
  },
  {
   "cell_type": "code",
   "execution_count": 35,
   "metadata": {},
   "outputs": [
    {
     "name": "stdout",
     "output_type": "stream",
     "text": [
      "490\n",
      "66\n"
     ]
    }
   ],
   "source": [
    "#predicted_class1 = []\n",
    "\n",
    "\n",
    "predicted_bad = test_mae_loss[test_mae_loss>0.15]\n",
    "predicted_ok = test_mae_loss[test_mae_loss<0.15]\n",
    "\n",
    "\"\"\"\n",
    "\n",
    "print(len(predicted_ok))\n",
    "print(len(predicted_bad))\n",
    "\n",
    "for sample in X_test_anomaly:\n",
    "    if model.evaluate(sample, sample, verbose=3) > 0.08:\n",
    "        predicted_class1.append(1)\n",
    "    else:\n",
    "        predicted_class1.append(0)\n",
    "\"\"\"\n",
    "\n",
    "print(len(predicted_ok))\n",
    "print(len(predicted_bad))"
   ]
  },
  {
   "cell_type": "code",
   "execution_count": null,
   "metadata": {},
   "outputs": [],
   "source": []
  },
  {
   "cell_type": "code",
   "execution_count": 20,
   "metadata": {},
   "outputs": [],
   "source": [
    "predicted_class2 = []\n",
    "\n",
    "for sample in X_test_anomaly2:\n",
    "    if model.evaluate(sample, sample, verbose=3) > 0.08:\n",
    "        predicted_class2.append(1)\n",
    "    else:\n",
    "        predicted_class2.append(0)"
   ]
  },
  {
   "cell_type": "code",
   "execution_count": null,
   "metadata": {},
   "outputs": [],
   "source": []
  },
  {
   "cell_type": "code",
   "execution_count": 37,
   "metadata": {},
   "outputs": [
    {
     "data": {
      "image/png": "[encoded data removed]",
      "text/plain": [
       "<Figure size 432x288 with 1 Axes>"
      ]
     },
     "metadata": {
      "needs_background": "light"
     },
     "output_type": "display_data"
    }
   ],
   "source": [
    "x_test_pred = model.predict(X_test_anomaly3)\n",
    "test_mae_loss = np.mean(np.abs(x_test_pred - X_test_anomaly3), axis=1)\n",
    "plt.hist(test_mae_loss, bins=10)\n",
    "plt.xlabel(\"Test MAE loss\")\n",
    "plt.ylabel(\"No of samples\")\n",
    "plt.show()\n",
    "\n"
   ]
  }
 ],
 "metadata": {
  "kernelspec": {
   "display_name": "Python 3",
   "language": "python",
   "name": "python3"
  },
  "language_info": {
   "codemirror_mode": {
    "name": "ipython",
    "version": 3
   },
   "file_extension": ".py",
   "mimetype": "text/x-python",
   "name": "python",
   "nbconvert_exporter": "python",
   "pygments_lexer": "ipython3",
   "version": "3.7.7"
  }
 },
 "nbformat": 4,
 "nbformat_minor": 4
}
