{
 "cells": [
  {
   "cell_type": "code",
   "execution_count": 1,
   "metadata": {},
   "outputs": [],
   "source": [
    "import pandas as pd\n",
    "import numpy as np\n",
    "\n",
    "from keras.layers import Dropout\n",
    "from keras import regularizers, optimizers\n",
    "from keras.layers import Input, Conv1D, Dense, Flatten, Activation, UpSampling1D, MaxPooling1D, ZeroPadding1D, TimeDistributed\n",
    "from keras.models import Model, load_model\n",
    "from keras.layers.core import Reshape\n",
    "\n",
    "from keras.models import Sequential\n",
    "from keras.layers import LSTM\n",
    "from keras.layers import Dense\n",
    "from keras.layers import RepeatVector\n",
    "from keras.layers import TimeDistributed\n",
    "from keras.utils import plot_model\n"
   ]
  },
  {
   "cell_type": "markdown",
   "metadata": {},
   "source": [
    "# Dataset\n",
    "We use the ECG dataset available [here](https://www.kaggle.com/shayanfazeli/heartbeat/data?select=mitbih_train.csv). There is [an article](https://arxiv.org/pdf/1805.00794.pdf) that uses the dataset, which we can use as a reference. More details about the dataset can be found [here](https://physionet.org/content/apnea-ecg/1.0.0/)"
   ]
  },
  {
   "cell_type": "markdown",
   "metadata": {},
   "source": [
    "1. Train only on normal cases. --> determine average error.\n",
    "2. Use the error as the threshold for decisions\n",
    "3. Check if the error differs significantly for other classes."
   ]
  },
  {
   "cell_type": "markdown",
   "metadata": {},
   "source": [
    "## Load the datasets"
   ]
  },
  {
   "cell_type": "code",
   "execution_count": 2,
   "metadata": {},
   "outputs": [
    {
     "data": {
      "text/plain": [
       "(87554, 188)"
      ]
     },
     "execution_count": 2,
     "metadata": {},
     "output_type": "execute_result"
    }
   ],
   "source": [
    "train = pd.read_csv('data/mitbih_train.csv', low_memory=False, header=None)\n",
    "train.shape"
   ]
  },
  {
   "cell_type": "code",
   "execution_count": 3,
   "metadata": {},
   "outputs": [
    {
     "data": {
      "text/plain": [
       "(21892, 188)"
      ]
     },
     "execution_count": 3,
     "metadata": {},
     "output_type": "execute_result"
    }
   ],
   "source": [
    "test = pd.read_csv('data/mitbih_test.csv', low_memory=False, header=None)\n",
    "test.shape"
   ]
  },
  {
   "cell_type": "code",
   "execution_count": 4,
   "metadata": {},
   "outputs": [
    {
     "data": {
      "text/plain": [
       "(4046, 188)"
      ]
     },
     "execution_count": 4,
     "metadata": {},
     "output_type": "execute_result"
    }
   ],
   "source": [
    "normal = pd.read_csv('data/ptbdb_normal.csv',low_memory=False, header=None)\n",
    "normal.shape"
   ]
  },
  {
   "cell_type": "code",
   "execution_count": 5,
   "metadata": {},
   "outputs": [
    {
     "data": {
      "text/plain": [
       "(10506, 188)"
      ]
     },
     "execution_count": 5,
     "metadata": {},
     "output_type": "execute_result"
    }
   ],
   "source": [
    "abnormal = pd.read_csv('data/ptbdb_abnormal.csv', low_memory=False, header=None)\n",
    "abnormal.shape"
   ]
  },
  {
   "cell_type": "markdown",
   "metadata": {},
   "source": [
    "## Split into X and y"
   ]
  },
  {
   "cell_type": "code",
   "execution_count": 6,
   "metadata": {},
   "outputs": [],
   "source": [
    "labels=np.where(train[187]==0)"
   ]
  },
  {
   "cell_type": "code",
   "execution_count": 7,
   "metadata": {},
   "outputs": [],
   "source": [
    "X_train = train.to_numpy()[:,0:186]\n",
    "y_train = train.to_numpy()[:,-1]#.reshape(-1,1)\n",
    "\n",
    "#X_normal = train[train[187]==0]\n",
    "\n",
    "X_train=X_train.reshape(-1,186,1)\n",
    "X_train_normal = X_train[y_train == 0]\n",
    "X_train_normal = X_train_normal[0:5000]\n",
    "X_train_anomaly = X_train[y_train== 1]\n",
    "X_train_anomaly2 = X_train[y_train== 2]\n",
    "X_train_anomaly3 = X_train[y_train== 3]\n",
    "X_train_anomaly4 = X_train[y_train== 4]\n",
    "\n",
    "\n",
    "# TEST data\n",
    "X_test = test.to_numpy()[:,0:186].reshape(-1,186,1)\n",
    "y_test = test.to_numpy()[:,-1]#.reshape(-1,1)\n",
    "\n",
    "X_test_normal = X_test[y_test == 0]\n",
    "X_test_anomaly = X_test[y_test == 1]\n",
    "X_test_anomaly2 = X_test[y_test == 2]\n",
    "X_test_anomaly3 = X_test[y_test == 3]\n",
    "X_test_anomaly4 = X_test[y_test == 4]"
   ]
  },
  {
   "cell_type": "code",
   "execution_count": 7,
   "metadata": {},
   "outputs": [
    {
     "data": {
      "text/plain": [
       "72471"
      ]
     },
     "execution_count": 7,
     "metadata": {},
     "output_type": "execute_result"
    }
   ],
   "source": [
    "len(labels[0])"
   ]
  },
  {
   "cell_type": "code",
   "execution_count": 10,
   "metadata": {},
   "outputs": [
    {
     "data": {
      "text/plain": [
       "2223"
      ]
     },
     "execution_count": 10,
     "metadata": {},
     "output_type": "execute_result"
    }
   ],
   "source": [
    "len(np.where(train[187]==1)[0])"
   ]
  },
  {
   "cell_type": "code",
   "execution_count": 23,
   "metadata": {},
   "outputs": [],
   "source": [
    "X_normal = train[train[187]==0]"
   ]
  },
  {
   "cell_type": "code",
   "execution_count": 45,
   "metadata": {},
   "outputs": [
    {
     "data": {
      "text/plain": [
       "(87554, 186, 1)"
      ]
     },
     "execution_count": 45,
     "metadata": {},
     "output_type": "execute_result"
    }
   ],
   "source": [
    "X_train.shape"
   ]
  },
  {
   "cell_type": "code",
   "execution_count": 46,
   "metadata": {},
   "outputs": [
    {
     "data": {
      "text/plain": [
       "(5000, 186, 1)"
      ]
     },
     "execution_count": 46,
     "metadata": {},
     "output_type": "execute_result"
    }
   ],
   "source": [
    "X_train_normal.shape"
   ]
  },
  {
   "cell_type": "markdown",
   "metadata": {},
   "source": [
    "## Train"
   ]
  },
  {
   "cell_type": "code",
   "execution_count": 13,
   "metadata": {},
   "outputs": [],
   "source": [
    "def LSTM_AE(input_shape):\n",
    "        \n",
    "    inputs = Input(shape=input_shape)\n",
    "    encoded = LSTM(32, activation='tanh', return_sequences=True)(inputs)\n",
    "    encoded = LSTM(16, activation='tanh', return_sequences=False)(encoded)\n",
    "        \n",
    "    decoded = RepeatVector(input_shape[0])(encoded)\n",
    "    decoded = LSTM(16, activation='tanh', return_sequences=True)(decoded)\n",
    "    decoded = LSTM(32, activation='tanh', return_sequences=True)(decoded)\n",
    "    decoded = TimeDistributed(Dense(input_shape[1]))(decoded)\n",
    "        \n",
    "    sequence_autoencoder = Model(inputs, decoded)\n",
    "    \n",
    "    return sequence_autoencoder"
   ]
  },
  {
   "cell_type": "code",
   "execution_count": null,
   "metadata": {},
   "outputs": [],
   "source": [
    "def LSTM_AE_Deep(input_shape):\n",
    "    \n",
    "    \"\"\"\n",
    "    Input shape = (data_dim, number_of_features)\n",
    "    \n",
    "    Returns both the autoencoder and just the encoder.\n",
    "    \"\"\"\n",
    "    \n",
    "    inputs = Input(shape=input_shape)\n",
    "    encoded = LSTM(32, activation='tanh', return_sequences=True)(inputs)\n",
    "    encoded = LSTM(16, activation='tanh', return_sequences=True)(encoded)\n",
    "    encoded = LSTM(8, activation='tanh', return_sequences=False)(encoded)\n",
    "    #encoded = LSTM(4, activation='relu', return_sequences=False)(encoded)\n",
    "    \n",
    "    decoded = RepeatVector(input_shape[0])(encoded)\n",
    "    #decoded = LSTM(4, activation='relu', return_sequences=True)(decoded)\n",
    "    decoded = LSTM(8, activation='tanh', return_sequences=True)(decoded)\n",
    "    decoded = LSTM(16, activation='tanh', return_sequences=True)(decoded)\n",
    "    decoded = LSTM(32, activation='tanh', return_sequences=True)(decoded)\n",
    "    decoded = TimeDistributed(Dense(input_shape[1]))(decoded)\n",
    "    \n",
    "    sequence_autoencoder = Model(inputs, decoded)\n",
    "    encoder = Model(inputs, encoded)\n",
    "    \n",
    "    return (sequence_autoencoder, encoder)"
   ]
  },
  {
   "cell_type": "code",
   "execution_count": 34,
   "metadata": {},
   "outputs": [],
   "source": [
    "def LSTM_AE_Deep_v2(input_shape):\n",
    "    \n",
    "    \"\"\"\n",
    "    Input shape = (data_dim, number_of_features)\n",
    "    \n",
    "    Returns both the autoencoder and just the encoder.\n",
    "    \"\"\"\n",
    "    \n",
    "    inputs = Input(shape=input_shape)\n",
    "    encoded = LSTM(64, activation='tanh', return_sequences=True)(inputs)\n",
    "    encoded = LSTM(32, activation='tanh', return_sequences=True)(encoded)\n",
    "    encoded = LSTM(16, activation='tanh', return_sequences=False)(encoded)\n",
    "    #encoded = LSTM(4, activation='relu', return_sequences=False)(encoded)\n",
    "    \n",
    "    decoded = RepeatVector(input_shape[0])(encoded)\n",
    "    #decoded = LSTM(4, activation='relu', return_sequences=True)(decoded)\n",
    "    decoded = LSTM(16, activation='tanh', return_sequences=True)(decoded)\n",
    "    decoded = LSTM(32, activation='tanh', return_sequences=True)(decoded)\n",
    "    decoded = LSTM(64, activation='tanh', return_sequences=True)(decoded)\n",
    "    decoded = TimeDistributed(Dense(input_shape[1]))(decoded)\n",
    "    \n",
    "    sequence_autoencoder = Model(inputs, decoded)\n",
    "    encoder = Model(inputs, encoded)\n",
    "    \n",
    "    return (sequence_autoencoder, encoder)"
   ]
  },
  {
   "cell_type": "code",
   "execution_count": 55,
   "metadata": {},
   "outputs": [],
   "source": [
    "def LSTM_AE_Deep_v3(input_shape):\n",
    "    \n",
    "    \"\"\"\n",
    "    Input shape = (data_dim, number_of_features)\n",
    "    \n",
    "    Returns both the autoencoder and just the encoder.\n",
    "    \"\"\"\n",
    "    \n",
    "    inputs = Input(shape=input_shape)\n",
    "    encoded = LSTM(128, activation='tanh', return_sequences=True)(inputs)\n",
    "    encoded = LSTM(64, activation='tanh', return_sequences=True)(inputs)\n",
    "    encoded = LSTM(32, activation='tanh', return_sequences=True)(encoded)\n",
    "    encoded = LSTM(16, activation='tanh', return_sequences=False)(encoded)\n",
    "    #encoded = LSTM(4, activation='relu', return_sequences=False)(encoded)\n",
    "    \n",
    "    decoded = RepeatVector(input_shape[0])(encoded)\n",
    "    #decoded = LSTM(4, activation='relu', return_sequences=True)(decoded)\n",
    "    decoded = LSTM(16, activation='tanh', return_sequences=True)(decoded)\n",
    "    decoded = LSTM(32, activation='tanh', return_sequences=True)(decoded)\n",
    "    decoded = LSTM(64, activation='tanh', return_sequences=True)(decoded)\n",
    "    decoded = LSTM(128, activation='tanh', return_sequences=True)(decoded)\n",
    "    decoded = TimeDistributed(Dense(input_shape[1]))(decoded)\n",
    "    \n",
    "    sequence_autoencoder = Model(inputs, decoded)\n",
    "    encoder = Model(inputs, encoded)\n",
    "    \n",
    "    return (sequence_autoencoder, encoder)"
   ]
  },
  {
   "cell_type": "code",
   "execution_count": 23,
   "metadata": {},
   "outputs": [],
   "source": [
    "def TCN_AE(input_shape = (100,8)):  \n",
    "    input_layer = Input(shape=input_shape)\n",
    "    \n",
    "    filter_c = input_shape[0]#+input_shape[1] -1\n",
    "    \n",
    "    #encoder\n",
    "    \n",
    "    x = Conv1D(filters=int(filter_c), kernel_size=2, dilation_rate=1,\n",
    "                   padding='causal', strides=1, input_shape=input_shape,\n",
    "                   kernel_regularizer = regularizers.l2(0.01), activation='relu')(input_layer)\n",
    "    x = MaxPooling1D(pool_size = 2, strides=2)(x)\n",
    "    x = Conv1D(filters=int(filter_c/2), kernel_size=2, dilation_rate=1,\n",
    "                   padding='causal', strides=1, \n",
    "                   kernel_regularizer = regularizers.l2(0.01), activation='relu')(x)\n",
    "    x = MaxPooling1D(pool_size = 2, strides=2)(x)\n",
    "    x = Conv1D(filters=int(filter_c/4), kernel_size=2, dilation_rate=1,\n",
    "                   padding='causal', strides=1, \n",
    "                   kernel_regularizer = regularizers.l2(0.01), activation='relu')(x)\n",
    "    x = MaxPooling1D(pool_size = 2, strides=2)(x)\n",
    "    x = Conv1D(filters=int(filter_c/8), kernel_size=2, dilation_rate=1,\n",
    "                   padding='causal', strides=1, \n",
    "                   kernel_regularizer = regularizers.l2(0.01), activation='relu')(x)\n",
    "    x = Dense(int(filter_c/16), activation='relu')(x)\n",
    "    encoder = Model(input_layer, x)\n",
    "    \n",
    "    #decoder\n",
    "    x = UpSampling1D(size=2)(x)\n",
    "    x = Conv1D(filters=int(filter_c/8), kernel_size=2, dilation_rate=1,\n",
    "                   padding='causal', strides=1, \n",
    "                   kernel_regularizer = regularizers.l2(0.01), activation='relu')(x)\n",
    "    x = UpSampling1D(size=2)(x)\n",
    "    x = Conv1D(filters=int(filter_c/4), kernel_size=2, dilation_rate=1,\n",
    "                   padding='causal', strides=1, \n",
    "                   kernel_regularizer = regularizers.l2(0.01), activation='relu')(x)\n",
    "    x = UpSampling1D(size=2)(x)\n",
    "    x = Conv1D(filters=int(filter_c/2), kernel_size=2, dilation_rate=1,\n",
    "                   padding='causal', strides=1, \n",
    "                   kernel_regularizer = regularizers.l2(0.01), activation='relu')(x)\n",
    "    x = ZeroPadding1D(padding=(0,4))(x)\n",
    "    x = Conv1D(filters=int(filter_c), kernel_size=2, dilation_rate=1,\n",
    "                   padding='causal', strides=1, input_shape=input_shape,\n",
    "                   kernel_regularizer = regularizers.l2(0.01), activation='relu')(x)\n",
    "    #flat = Flatten()(conv_6)\n",
    "    output_layer = TimeDistributed(Dense(input_shape[1]))(x)\n",
    "    \n",
    "    TCN = Model(inputs = input_layer, outputs = output_layer)\n",
    "            \n",
    "    return (TCN, encoder)"
   ]
  },
  {
   "cell_type": "code",
   "execution_count": 14,
   "metadata": {},
   "outputs": [
    {
     "name": "stdout",
     "output_type": "stream",
     "text": [
      "Model: \"model_2\"\n",
      "_________________________________________________________________\n",
      "Layer (type)                 Output Shape              Param #   \n",
      "=================================================================\n",
      "input_2 (InputLayer)         [(None, 186, 1)]          0         \n",
      "_________________________________________________________________\n",
      "lstm (LSTM)                  (None, 186, 32)           4352      \n",
      "_________________________________________________________________\n",
      "lstm_1 (LSTM)                (None, 16)                3136      \n",
      "_________________________________________________________________\n",
      "repeat_vector (RepeatVector) (None, 186, 16)           0         \n",
      "_________________________________________________________________\n",
      "lstm_2 (LSTM)                (None, 186, 16)           2112      \n",
      "_________________________________________________________________\n",
      "lstm_3 (LSTM)                (None, 186, 32)           6272      \n",
      "_________________________________________________________________\n",
      "time_distributed_1 (TimeDist (None, 186, 1)            33        \n",
      "=================================================================\n",
      "Total params: 15,905\n",
      "Trainable params: 15,905\n",
      "Non-trainable params: 0\n",
      "_________________________________________________________________\n"
     ]
    }
   ],
   "source": [
    "model = LSTM_AE((186,1))\n",
    "model.summary()\n",
    "model.compile(optimizer='adam', loss='mae', metrics=None)"
   ]
  },
  {
   "cell_type": "code",
   "execution_count": 35,
   "metadata": {},
   "outputs": [
    {
     "name": "stdout",
     "output_type": "stream",
     "text": [
      "Model: \"model_25\"\n",
      "_________________________________________________________________\n",
      "Layer (type)                 Output Shape              Param #   \n",
      "=================================================================\n",
      "input_14 (InputLayer)        [(None, 186, 1)]          0         \n",
      "_________________________________________________________________\n",
      "lstm_28 (LSTM)               (None, 186, 64)           16896     \n",
      "_________________________________________________________________\n",
      "lstm_29 (LSTM)               (None, 186, 32)           12416     \n",
      "_________________________________________________________________\n",
      "lstm_30 (LSTM)               (None, 16)                3136      \n",
      "_________________________________________________________________\n",
      "repeat_vector_5 (RepeatVecto (None, 186, 16)           0         \n",
      "_________________________________________________________________\n",
      "lstm_31 (LSTM)               (None, 186, 16)           2112      \n",
      "_________________________________________________________________\n",
      "lstm_32 (LSTM)               (None, 186, 32)           6272      \n",
      "_________________________________________________________________\n",
      "lstm_33 (LSTM)               (None, 186, 64)           24832     \n",
      "_________________________________________________________________\n",
      "time_distributed_13 (TimeDis (None, 186, 1)            65        \n",
      "=================================================================\n",
      "Total params: 65,729\n",
      "Trainable params: 65,729\n",
      "Non-trainable params: 0\n",
      "_________________________________________________________________\n"
     ]
    }
   ],
   "source": [
    "model = LSTM_AE_Deep_v2((186,1))[0]\n",
    "model.summary()\n",
    "model.compile(optimizer='adam', loss='mae', metrics=None)"
   ]
  },
  {
   "cell_type": "code",
   "execution_count": 56,
   "metadata": {},
   "outputs": [
    {
     "name": "stdout",
     "output_type": "stream",
     "text": [
      "Model: \"model_27\"\n",
      "_________________________________________________________________\n",
      "Layer (type)                 Output Shape              Param #   \n",
      "=================================================================\n",
      "input_15 (InputLayer)        [(None, 186, 1)]          0         \n",
      "_________________________________________________________________\n",
      "lstm_35 (LSTM)               (None, 186, 64)           16896     \n",
      "_________________________________________________________________\n",
      "lstm_36 (LSTM)               (None, 186, 32)           12416     \n",
      "_________________________________________________________________\n",
      "lstm_37 (LSTM)               (None, 16)                3136      \n",
      "_________________________________________________________________\n",
      "repeat_vector_6 (RepeatVecto (None, 186, 16)           0         \n",
      "_________________________________________________________________\n",
      "lstm_38 (LSTM)               (None, 186, 16)           2112      \n",
      "_________________________________________________________________\n",
      "lstm_39 (LSTM)               (None, 186, 32)           6272      \n",
      "_________________________________________________________________\n",
      "lstm_40 (LSTM)               (None, 186, 64)           24832     \n",
      "_________________________________________________________________\n",
      "lstm_41 (LSTM)               (None, 186, 128)          98816     \n",
      "_________________________________________________________________\n",
      "time_distributed_14 (TimeDis (None, 186, 1)            129       \n",
      "=================================================================\n",
      "Total params: 164,609\n",
      "Trainable params: 164,609\n",
      "Non-trainable params: 0\n",
      "_________________________________________________________________\n"
     ]
    }
   ],
   "source": [
    "model = LSTM_AE_Deep_v3((186,1))[0]\n",
    "model.summary()\n",
    "model.compile(optimizer='adam', loss='mae', metrics=None)"
   ]
  },
  {
   "cell_type": "code",
   "execution_count": 24,
   "metadata": {},
   "outputs": [
    {
     "name": "stdout",
     "output_type": "stream",
     "text": [
      "Model: \"model_16\"\n",
      "_________________________________________________________________\n",
      "Layer (type)                 Output Shape              Param #   \n",
      "=================================================================\n",
      "input_9 (InputLayer)         [(None, 186, 1)]          0         \n",
      "_________________________________________________________________\n",
      "conv1d_56 (Conv1D)           (None, 186, 186)          558       \n",
      "_________________________________________________________________\n",
      "max_pooling1d_21 (MaxPooling (None, 93, 186)           0         \n",
      "_________________________________________________________________\n",
      "conv1d_57 (Conv1D)           (None, 93, 46)            17158     \n",
      "_________________________________________________________________\n",
      "max_pooling1d_22 (MaxPooling (None, 46, 46)            0         \n",
      "_________________________________________________________________\n",
      "conv1d_58 (Conv1D)           (None, 46, 46)            4278      \n",
      "_________________________________________________________________\n",
      "max_pooling1d_23 (MaxPooling (None, 23, 46)            0         \n",
      "_________________________________________________________________\n",
      "conv1d_59 (Conv1D)           (None, 23, 23)            2139      \n",
      "_________________________________________________________________\n",
      "dense_15 (Dense)             (None, 23, 11)            264       \n",
      "_________________________________________________________________\n",
      "up_sampling1d_21 (UpSampling (None, 46, 11)            0         \n",
      "_________________________________________________________________\n",
      "conv1d_60 (Conv1D)           (None, 46, 23)            529       \n",
      "_________________________________________________________________\n",
      "up_sampling1d_22 (UpSampling (None, 92, 23)            0         \n",
      "_________________________________________________________________\n",
      "conv1d_61 (Conv1D)           (None, 92, 46)            2162      \n",
      "_________________________________________________________________\n",
      "up_sampling1d_23 (UpSampling (None, 184, 46)           0         \n",
      "_________________________________________________________________\n",
      "conv1d_62 (Conv1D)           (None, 184, 93)           8649      \n",
      "_________________________________________________________________\n",
      "zero_padding1d_7 (ZeroPaddin (None, 188, 93)           0         \n",
      "_________________________________________________________________\n",
      "conv1d_63 (Conv1D)           (None, 188, 186)          34782     \n",
      "_________________________________________________________________\n",
      "time_distributed_8 (TimeDist (None, 188, 1)            187       \n",
      "=================================================================\n",
      "Total params: 70,706\n",
      "Trainable params: 70,706\n",
      "Non-trainable params: 0\n",
      "_________________________________________________________________\n"
     ]
    }
   ],
   "source": [
    "# TODO: output shape does not seem ok.\n",
    "#model = TCN_AE((186,1))[0]\n",
    "#model.summary()"
   ]
  },
  {
   "cell_type": "code",
   "execution_count": null,
   "metadata": {},
   "outputs": [
    {
     "name": "stdout",
     "output_type": "stream",
     "text": [
      "Epoch 1/5\n",
      "149/149 [==============================] - 104s 695ms/step - loss: 0.1363 - val_loss: 0.1022\n",
      "Epoch 2/5\n",
      " 28/149 [====>.........................] - ETA: 1:01 - loss: 0.1073"
     ]
    }
   ],
   "source": [
    "history = model.fit(X_train_normal, X_train_normal, epochs=5, verbose=1, shuffle=True, validation_split=0.05)"
   ]
  },
  {
   "cell_type": "markdown",
   "metadata": {},
   "source": [
    "### Apply model on train\n",
    "We will now compute the the loss for each class on the train set. This will guide us in setting a decision boundary, that we can later use on the test set."
   ]
  },
  {
   "cell_type": "code",
   "execution_count": 37,
   "metadata": {},
   "outputs": [],
   "source": [
    "from matplotlib import pyplot as plt"
   ]
  },
  {
   "cell_type": "code",
   "execution_count": 13,
   "metadata": {},
   "outputs": [
    {
     "data": {
      "text/plain": [
       "(5000, 186, 1)"
      ]
     },
     "execution_count": 13,
     "metadata": {},
     "output_type": "execute_result"
    }
   ],
   "source": [
    "model.predict(X_train_normal).shape"
   ]
  },
  {
   "cell_type": "code",
   "execution_count": 38,
   "metadata": {},
   "outputs": [
    {
     "ename": "KeyboardInterrupt",
     "evalue": "",
     "output_type": "error",
     "traceback": [
      "\u001b[1;31m---------------------------------------------------------------------------\u001b[0m",
      "\u001b[1;31mKeyboardInterrupt\u001b[0m                         Traceback (most recent call last)",
      "\u001b[1;32m<ipython-input-38-d3805b899cfa>\u001b[0m in \u001b[0;36m<module>\u001b[1;34m\u001b[0m\n\u001b[1;32m----> 1\u001b[1;33m \u001b[0mx_train_pred\u001b[0m \u001b[1;33m=\u001b[0m \u001b[0mmodel\u001b[0m\u001b[1;33m.\u001b[0m\u001b[0mpredict\u001b[0m\u001b[1;33m(\u001b[0m\u001b[0mX_train_normal\u001b[0m\u001b[1;33m)\u001b[0m\u001b[1;33m\u001b[0m\u001b[1;33m\u001b[0m\u001b[0m\n\u001b[0m\u001b[0;32m      2\u001b[0m \u001b[0mtrain_mae_loss\u001b[0m \u001b[1;33m=\u001b[0m \u001b[0mnp\u001b[0m\u001b[1;33m.\u001b[0m\u001b[0mmean\u001b[0m\u001b[1;33m(\u001b[0m\u001b[0mnp\u001b[0m\u001b[1;33m.\u001b[0m\u001b[0mabs\u001b[0m\u001b[1;33m(\u001b[0m\u001b[0mx_train_pred\u001b[0m \u001b[1;33m-\u001b[0m \u001b[0mX_train_normal\u001b[0m\u001b[1;33m)\u001b[0m\u001b[1;33m,\u001b[0m \u001b[0maxis\u001b[0m\u001b[1;33m=\u001b[0m\u001b[1;36m1\u001b[0m\u001b[1;33m)\u001b[0m\u001b[1;33m\u001b[0m\u001b[1;33m\u001b[0m\u001b[0m\n",
      "\u001b[1;32mc:\\users\\artem los\\.conda\\envs\\tf_prod\\lib\\site-packages\\tensorflow\\python\\keras\\engine\\training.py\u001b[0m in \u001b[0;36m_method_wrapper\u001b[1;34m(self, *args, **kwargs)\u001b[0m\n\u001b[0;32m     86\u001b[0m       raise ValueError('{} is not supported in multi-worker mode.'.format(\n\u001b[0;32m     87\u001b[0m           method.__name__))\n\u001b[1;32m---> 88\u001b[1;33m     \u001b[1;32mreturn\u001b[0m \u001b[0mmethod\u001b[0m\u001b[1;33m(\u001b[0m\u001b[0mself\u001b[0m\u001b[1;33m,\u001b[0m \u001b[1;33m*\u001b[0m\u001b[0margs\u001b[0m\u001b[1;33m,\u001b[0m \u001b[1;33m**\u001b[0m\u001b[0mkwargs\u001b[0m\u001b[1;33m)\u001b[0m\u001b[1;33m\u001b[0m\u001b[1;33m\u001b[0m\u001b[0m\n\u001b[0m\u001b[0;32m     89\u001b[0m \u001b[1;33m\u001b[0m\u001b[0m\n\u001b[0;32m     90\u001b[0m   return tf_decorator.make_decorator(\n",
      "\u001b[1;32mc:\\users\\artem los\\.conda\\envs\\tf_prod\\lib\\site-packages\\tensorflow\\python\\keras\\engine\\training.py\u001b[0m in \u001b[0;36mpredict\u001b[1;34m(self, x, batch_size, verbose, steps, callbacks, max_queue_size, workers, use_multiprocessing)\u001b[0m\n\u001b[0;32m   1266\u001b[0m           \u001b[1;32mfor\u001b[0m \u001b[0mstep\u001b[0m \u001b[1;32min\u001b[0m \u001b[0mdata_handler\u001b[0m\u001b[1;33m.\u001b[0m\u001b[0msteps\u001b[0m\u001b[1;33m(\u001b[0m\u001b[1;33m)\u001b[0m\u001b[1;33m:\u001b[0m\u001b[1;33m\u001b[0m\u001b[1;33m\u001b[0m\u001b[0m\n\u001b[0;32m   1267\u001b[0m             \u001b[0mcallbacks\u001b[0m\u001b[1;33m.\u001b[0m\u001b[0mon_predict_batch_begin\u001b[0m\u001b[1;33m(\u001b[0m\u001b[0mstep\u001b[0m\u001b[1;33m)\u001b[0m\u001b[1;33m\u001b[0m\u001b[1;33m\u001b[0m\u001b[0m\n\u001b[1;32m-> 1268\u001b[1;33m             \u001b[0mtmp_batch_outputs\u001b[0m \u001b[1;33m=\u001b[0m \u001b[0mpredict_function\u001b[0m\u001b[1;33m(\u001b[0m\u001b[0miterator\u001b[0m\u001b[1;33m)\u001b[0m\u001b[1;33m\u001b[0m\u001b[1;33m\u001b[0m\u001b[0m\n\u001b[0m\u001b[0;32m   1269\u001b[0m             \u001b[1;31m# Catch OutOfRangeError for Datasets of unknown size.\u001b[0m\u001b[1;33m\u001b[0m\u001b[1;33m\u001b[0m\u001b[1;33m\u001b[0m\u001b[0m\n\u001b[0;32m   1270\u001b[0m             \u001b[1;31m# This blocks until the batch has finished executing.\u001b[0m\u001b[1;33m\u001b[0m\u001b[1;33m\u001b[0m\u001b[1;33m\u001b[0m\u001b[0m\n",
      "\u001b[1;32mc:\\users\\artem los\\.conda\\envs\\tf_prod\\lib\\site-packages\\tensorflow\\python\\eager\\def_function.py\u001b[0m in \u001b[0;36m__call__\u001b[1;34m(self, *args, **kwds)\u001b[0m\n\u001b[0;32m    578\u001b[0m         \u001b[0mxla_context\u001b[0m\u001b[1;33m.\u001b[0m\u001b[0mExit\u001b[0m\u001b[1;33m(\u001b[0m\u001b[1;33m)\u001b[0m\u001b[1;33m\u001b[0m\u001b[1;33m\u001b[0m\u001b[0m\n\u001b[0;32m    579\u001b[0m     \u001b[1;32melse\u001b[0m\u001b[1;33m:\u001b[0m\u001b[1;33m\u001b[0m\u001b[1;33m\u001b[0m\u001b[0m\n\u001b[1;32m--> 580\u001b[1;33m       \u001b[0mresult\u001b[0m \u001b[1;33m=\u001b[0m \u001b[0mself\u001b[0m\u001b[1;33m.\u001b[0m\u001b[0m_call\u001b[0m\u001b[1;33m(\u001b[0m\u001b[1;33m*\u001b[0m\u001b[0margs\u001b[0m\u001b[1;33m,\u001b[0m \u001b[1;33m**\u001b[0m\u001b[0mkwds\u001b[0m\u001b[1;33m)\u001b[0m\u001b[1;33m\u001b[0m\u001b[1;33m\u001b[0m\u001b[0m\n\u001b[0m\u001b[0;32m    581\u001b[0m \u001b[1;33m\u001b[0m\u001b[0m\n\u001b[0;32m    582\u001b[0m     \u001b[1;32mif\u001b[0m \u001b[0mtracing_count\u001b[0m \u001b[1;33m==\u001b[0m \u001b[0mself\u001b[0m\u001b[1;33m.\u001b[0m\u001b[0m_get_tracing_count\u001b[0m\u001b[1;33m(\u001b[0m\u001b[1;33m)\u001b[0m\u001b[1;33m:\u001b[0m\u001b[1;33m\u001b[0m\u001b[1;33m\u001b[0m\u001b[0m\n",
      "\u001b[1;32mc:\\users\\artem los\\.conda\\envs\\tf_prod\\lib\\site-packages\\tensorflow\\python\\eager\\def_function.py\u001b[0m in \u001b[0;36m_call\u001b[1;34m(self, *args, **kwds)\u001b[0m\n\u001b[0;32m    616\u001b[0m       \u001b[1;31m# In this case we have not created variables on the first call. So we can\u001b[0m\u001b[1;33m\u001b[0m\u001b[1;33m\u001b[0m\u001b[1;33m\u001b[0m\u001b[0m\n\u001b[0;32m    617\u001b[0m       \u001b[1;31m# run the first trace but we should fail if variables are created.\u001b[0m\u001b[1;33m\u001b[0m\u001b[1;33m\u001b[0m\u001b[1;33m\u001b[0m\u001b[0m\n\u001b[1;32m--> 618\u001b[1;33m       \u001b[0mresults\u001b[0m \u001b[1;33m=\u001b[0m \u001b[0mself\u001b[0m\u001b[1;33m.\u001b[0m\u001b[0m_stateful_fn\u001b[0m\u001b[1;33m(\u001b[0m\u001b[1;33m*\u001b[0m\u001b[0margs\u001b[0m\u001b[1;33m,\u001b[0m \u001b[1;33m**\u001b[0m\u001b[0mkwds\u001b[0m\u001b[1;33m)\u001b[0m\u001b[1;33m\u001b[0m\u001b[1;33m\u001b[0m\u001b[0m\n\u001b[0m\u001b[0;32m    619\u001b[0m       \u001b[1;32mif\u001b[0m \u001b[0mself\u001b[0m\u001b[1;33m.\u001b[0m\u001b[0m_created_variables\u001b[0m\u001b[1;33m:\u001b[0m\u001b[1;33m\u001b[0m\u001b[1;33m\u001b[0m\u001b[0m\n\u001b[0;32m    620\u001b[0m         raise ValueError(\"Creating variables on a non-first call to a function\"\n",
      "\u001b[1;32mc:\\users\\artem los\\.conda\\envs\\tf_prod\\lib\\site-packages\\tensorflow\\python\\eager\\function.py\u001b[0m in \u001b[0;36m__call__\u001b[1;34m(self, *args, **kwargs)\u001b[0m\n\u001b[0;32m   2418\u001b[0m     \u001b[1;32mwith\u001b[0m \u001b[0mself\u001b[0m\u001b[1;33m.\u001b[0m\u001b[0m_lock\u001b[0m\u001b[1;33m:\u001b[0m\u001b[1;33m\u001b[0m\u001b[1;33m\u001b[0m\u001b[0m\n\u001b[0;32m   2419\u001b[0m       \u001b[0mgraph_function\u001b[0m\u001b[1;33m,\u001b[0m \u001b[0margs\u001b[0m\u001b[1;33m,\u001b[0m \u001b[0mkwargs\u001b[0m \u001b[1;33m=\u001b[0m \u001b[0mself\u001b[0m\u001b[1;33m.\u001b[0m\u001b[0m_maybe_define_function\u001b[0m\u001b[1;33m(\u001b[0m\u001b[0margs\u001b[0m\u001b[1;33m,\u001b[0m \u001b[0mkwargs\u001b[0m\u001b[1;33m)\u001b[0m\u001b[1;33m\u001b[0m\u001b[1;33m\u001b[0m\u001b[0m\n\u001b[1;32m-> 2420\u001b[1;33m     \u001b[1;32mreturn\u001b[0m \u001b[0mgraph_function\u001b[0m\u001b[1;33m.\u001b[0m\u001b[0m_filtered_call\u001b[0m\u001b[1;33m(\u001b[0m\u001b[0margs\u001b[0m\u001b[1;33m,\u001b[0m \u001b[0mkwargs\u001b[0m\u001b[1;33m)\u001b[0m  \u001b[1;31m# pylint: disable=protected-access\u001b[0m\u001b[1;33m\u001b[0m\u001b[1;33m\u001b[0m\u001b[0m\n\u001b[0m\u001b[0;32m   2421\u001b[0m \u001b[1;33m\u001b[0m\u001b[0m\n\u001b[0;32m   2422\u001b[0m   \u001b[1;33m@\u001b[0m\u001b[0mproperty\u001b[0m\u001b[1;33m\u001b[0m\u001b[1;33m\u001b[0m\u001b[0m\n",
      "\u001b[1;32mc:\\users\\artem los\\.conda\\envs\\tf_prod\\lib\\site-packages\\tensorflow\\python\\eager\\function.py\u001b[0m in \u001b[0;36m_filtered_call\u001b[1;34m(self, args, kwargs)\u001b[0m\n\u001b[0;32m   1663\u001b[0m          if isinstance(t, (ops.Tensor,\n\u001b[0;32m   1664\u001b[0m                            resource_variable_ops.BaseResourceVariable))),\n\u001b[1;32m-> 1665\u001b[1;33m         self.captured_inputs)\n\u001b[0m\u001b[0;32m   1666\u001b[0m \u001b[1;33m\u001b[0m\u001b[0m\n\u001b[0;32m   1667\u001b[0m   \u001b[1;32mdef\u001b[0m \u001b[0m_call_flat\u001b[0m\u001b[1;33m(\u001b[0m\u001b[0mself\u001b[0m\u001b[1;33m,\u001b[0m \u001b[0margs\u001b[0m\u001b[1;33m,\u001b[0m \u001b[0mcaptured_inputs\u001b[0m\u001b[1;33m,\u001b[0m \u001b[0mcancellation_manager\u001b[0m\u001b[1;33m=\u001b[0m\u001b[1;32mNone\u001b[0m\u001b[1;33m)\u001b[0m\u001b[1;33m:\u001b[0m\u001b[1;33m\u001b[0m\u001b[1;33m\u001b[0m\u001b[0m\n",
      "\u001b[1;32mc:\\users\\artem los\\.conda\\envs\\tf_prod\\lib\\site-packages\\tensorflow\\python\\eager\\function.py\u001b[0m in \u001b[0;36m_call_flat\u001b[1;34m(self, args, captured_inputs, cancellation_manager)\u001b[0m\n\u001b[0;32m   1744\u001b[0m       \u001b[1;31m# No tape is watching; skip to running the function.\u001b[0m\u001b[1;33m\u001b[0m\u001b[1;33m\u001b[0m\u001b[1;33m\u001b[0m\u001b[0m\n\u001b[0;32m   1745\u001b[0m       return self._build_call_outputs(self._inference_function.call(\n\u001b[1;32m-> 1746\u001b[1;33m           ctx, args, cancellation_manager=cancellation_manager))\n\u001b[0m\u001b[0;32m   1747\u001b[0m     forward_backward = self._select_forward_and_backward_functions(\n\u001b[0;32m   1748\u001b[0m         \u001b[0margs\u001b[0m\u001b[1;33m,\u001b[0m\u001b[1;33m\u001b[0m\u001b[1;33m\u001b[0m\u001b[0m\n",
      "\u001b[1;32mc:\\users\\artem los\\.conda\\envs\\tf_prod\\lib\\site-packages\\tensorflow\\python\\eager\\function.py\u001b[0m in \u001b[0;36mcall\u001b[1;34m(self, ctx, args, cancellation_manager)\u001b[0m\n\u001b[0;32m    596\u001b[0m               \u001b[0minputs\u001b[0m\u001b[1;33m=\u001b[0m\u001b[0margs\u001b[0m\u001b[1;33m,\u001b[0m\u001b[1;33m\u001b[0m\u001b[1;33m\u001b[0m\u001b[0m\n\u001b[0;32m    597\u001b[0m               \u001b[0mattrs\u001b[0m\u001b[1;33m=\u001b[0m\u001b[0mattrs\u001b[0m\u001b[1;33m,\u001b[0m\u001b[1;33m\u001b[0m\u001b[1;33m\u001b[0m\u001b[0m\n\u001b[1;32m--> 598\u001b[1;33m               ctx=ctx)\n\u001b[0m\u001b[0;32m    599\u001b[0m         \u001b[1;32melse\u001b[0m\u001b[1;33m:\u001b[0m\u001b[1;33m\u001b[0m\u001b[1;33m\u001b[0m\u001b[0m\n\u001b[0;32m    600\u001b[0m           outputs = execute.execute_with_cancellation(\n",
      "\u001b[1;32mc:\\users\\artem los\\.conda\\envs\\tf_prod\\lib\\site-packages\\tensorflow\\python\\eager\\execute.py\u001b[0m in \u001b[0;36mquick_execute\u001b[1;34m(op_name, num_outputs, inputs, attrs, ctx, name)\u001b[0m\n\u001b[0;32m     58\u001b[0m     \u001b[0mctx\u001b[0m\u001b[1;33m.\u001b[0m\u001b[0mensure_initialized\u001b[0m\u001b[1;33m(\u001b[0m\u001b[1;33m)\u001b[0m\u001b[1;33m\u001b[0m\u001b[1;33m\u001b[0m\u001b[0m\n\u001b[0;32m     59\u001b[0m     tensors = pywrap_tfe.TFE_Py_Execute(ctx._handle, device_name, op_name,\n\u001b[1;32m---> 60\u001b[1;33m                                         inputs, attrs, num_outputs)\n\u001b[0m\u001b[0;32m     61\u001b[0m   \u001b[1;32mexcept\u001b[0m \u001b[0mcore\u001b[0m\u001b[1;33m.\u001b[0m\u001b[0m_NotOkStatusException\u001b[0m \u001b[1;32mas\u001b[0m \u001b[0me\u001b[0m\u001b[1;33m:\u001b[0m\u001b[1;33m\u001b[0m\u001b[1;33m\u001b[0m\u001b[0m\n\u001b[0;32m     62\u001b[0m     \u001b[1;32mif\u001b[0m \u001b[0mname\u001b[0m \u001b[1;32mis\u001b[0m \u001b[1;32mnot\u001b[0m \u001b[1;32mNone\u001b[0m\u001b[1;33m:\u001b[0m\u001b[1;33m\u001b[0m\u001b[1;33m\u001b[0m\u001b[0m\n",
      "\u001b[1;31mKeyboardInterrupt\u001b[0m: "
     ]
    }
   ],
   "source": [
    "x_train_pred = model.predict(X_train_normal)\n",
    "train_mae_loss = np.mean(np.abs(x_train_pred - X_train_normal), axis=1)"
   ]
  },
  {
   "cell_type": "code",
   "execution_count": 12,
   "metadata": {},
   "outputs": [
    {
     "data": {
      "image/png": "[encoded data removed]",
      "text/plain": [
       "<Figure size 432x288 with 1 Axes>"
      ]
     },
     "metadata": {
      "needs_background": "light"
     },
     "output_type": "display_data"
    }
   ],
   "source": [
    "plt.hist(train_mae_loss, bins=10)\n",
    "plt.xlabel(\"Train MAE loss\")\n",
    "plt.ylabel(\"No of samples\")\n",
    "plt.show()"
   ]
  },
  {
   "cell_type": "code",
   "execution_count": null,
   "metadata": {},
   "outputs": [],
   "source": [
    "print(np.max(train_mae_loss))"
   ]
  },
  {
   "cell_type": "code",
   "execution_count": null,
   "metadata": {},
   "outputs": [],
   "source": [
    "print(model.evaluate(X_train_normal,X_train_normal, verbose=3))\n",
    "print(model.evaluate(X_train_anomaly2,X_train_anomaly2, verbose=3))\n",
    "print(model.evaluate(X_train_anomaly3,X_train_anomaly3, verbose=3))\n",
    "print(model.evaluate(X_train_anomaly4,X_train_anomaly4, verbose=3))"
   ]
  },
  {
   "cell_type": "markdown",
   "metadata": {},
   "source": [
    "### Conclusion and test set\n",
    "It's clear that our model (trained on fewer samples than we have) detects most of the nomalies (except class 3). Now, let's do the same on the test set. We can set the decision boundary to `0.16`."
   ]
  },
  {
   "cell_type": "code",
   "execution_count": 15,
   "metadata": {},
   "outputs": [
    {
     "name": "stdout",
     "output_type": "stream",
     "text": [
      "0.07309737056493759\n",
      "0.07742656022310257\n",
      "0.09911613911390305\n",
      "0.07295534014701843\n",
      "0.09004269540309906\n"
     ]
    }
   ],
   "source": [
    "print(model.evaluate(X_test_normal,X_test_normal, verbose=3))\n",
    "print(model.evaluate(X_test_anomaly,X_test_anomaly, verbose=3))\n",
    "print(model.evaluate(X_test_anomaly2,X_test_anomaly2, verbose=3))\n",
    "print(model.evaluate(X_test_anomaly3,X_test_anomaly3, verbose=3))\n",
    "print(model.evaluate(X_test_anomaly4,X_test_anomaly4, verbose=3))"
   ]
  },
  {
   "cell_type": "code",
   "execution_count": null,
   "metadata": {},
   "outputs": [],
   "source": []
  },
  {
   "cell_type": "code",
   "execution_count": 24,
   "metadata": {},
   "outputs": [],
   "source": [
    "from errormetrics import * "
   ]
  },
  {
   "cell_type": "code",
   "execution_count": 39,
   "metadata": {},
   "outputs": [],
   "source": [
    "x_normal_pred = model.predict(X_test_normal)\n",
    "normal_mae_loss = np.mean(np.abs(x_normal_pred - X_test_normal), axis=1)\n",
    "\n",
    "x_anomaly_pred = model.predict(X_test_anomaly)\n",
    "anomaly_mae_loss = np.mean(np.abs(x_anomaly_pred - X_test_anomaly), axis=1)\n",
    "\n",
    "x_anomaly2_pred = model.predict(X_test_anomaly2)\n",
    "anomaly2_mae_loss = np.mean(np.abs(x_anomaly2_pred - X_test_anomaly2), axis=1)\n",
    "\n",
    "x_anomaly3_pred = model.predict(X_test_anomaly3)\n",
    "anomaly3_mae_loss = np.mean(np.abs(x_anomaly3_pred - X_test_anomaly3), axis=1)\n",
    "\n",
    "x_anomaly4_pred = model.predict(X_test_anomaly4)\n",
    "anomaly4_mae_loss = np.mean(np.abs(x_anomaly4_pred - X_test_anomaly4), axis=1)"
   ]
  },
  {
   "cell_type": "code",
   "execution_count": 41,
   "metadata": {},
   "outputs": [],
   "source": [
    "error_threshold = 0.15"
   ]
  },
  {
   "cell_type": "code",
   "execution_count": 42,
   "metadata": {},
   "outputs": [],
   "source": [
    "# test set with normal samples\n",
    "\n",
    "# \"positive\" means it's normal. \"negative\" means there is an anomaly.\n",
    "\n",
    "def compute_metrics(error_threshold):\n",
    "    FN = len(normal_mae_loss[normal_mae_loss>=error_threshold])\n",
    "    TP = len(normal_mae_loss[normal_mae_loss<error_threshold])\n",
    "\n",
    "    FP = len(anomaly_mae_loss[anomaly_mae_loss<error_threshold]) +\\\n",
    "    len(anomaly2_mae_loss[anomaly2_mae_loss<error_threshold]) +\\\n",
    "    len(anomaly3_mae_loss[anomaly3_mae_loss<error_threshold]) +\\\n",
    "    len(anomaly4_mae_loss[anomaly4_mae_loss<error_threshold])\n",
    "\n",
    "    TN = len(anomaly_mae_loss[anomaly_mae_loss>=error_threshold]) +\\\n",
    "    len(anomaly2_mae_loss[anomaly2_mae_loss>=error_threshold]) +\\\n",
    "    len(anomaly3_mae_loss[anomaly3_mae_loss>=error_threshold]) +\\\n",
    "    len(anomaly4_mae_loss[anomaly4_mae_loss>=error_threshold])\n",
    "\n",
    "\n",
    "    precision = TP / (TP+FP)\n",
    "    recall = TP / (TP+FN)\n",
    "    F1_score = 2* (precision * recall)/(precision + recall)\n",
    "    accurracy = (TP + TN) / (TP+TN+FP+FN)\n",
    "\n",
    "    print(precision, \"precision\")\n",
    "    print(recall, \"recall\")\n",
    "    print(F1_score, \"F1 score\")\n",
    "    print(accurracy, \"accurracy\")\n"
   ]
  },
  {
   "cell_type": "code",
   "execution_count": 54,
   "metadata": {},
   "outputs": [
    {
     "name": "stdout",
     "output_type": "stream",
     "text": [
      "0.827720148060138 precision\n",
      "0.9997240313500386 recall\n",
      "0.9056273593160171 F1 score\n",
      "0.8275625799378769 accurracy\n"
     ]
    }
   ],
   "source": [
    "compute_metrics(0.20)"
   ]
  },
  {
   "cell_type": "code",
   "execution_count": 44,
   "metadata": {},
   "outputs": [
    {
     "name": "stdout",
     "output_type": "stream",
     "text": [
      "0.8276082587246483 precision\n",
      "1.0 recall\n",
      "0.9056735816045989 F1 score\n",
      "0.8276082587246483 accurracy\n"
     ]
    }
   ],
   "source": [
    "compute_metrics(0.32506953328046745)"
   ]
  },
  {
   "cell_type": "code",
   "execution_count": null,
   "metadata": {},
   "outputs": [],
   "source": []
  },
  {
   "cell_type": "code",
   "execution_count": null,
   "metadata": {},
   "outputs": [],
   "source": []
  },
  {
   "cell_type": "code",
   "execution_count": null,
   "metadata": {},
   "outputs": [],
   "source": []
  },
  {
   "cell_type": "code",
   "execution_count": null,
   "metadata": {},
   "outputs": [],
   "source": []
  },
  {
   "cell_type": "code",
   "execution_count": null,
   "metadata": {},
   "outputs": [],
   "source": []
  },
  {
   "cell_type": "code",
   "execution_count": 34,
   "metadata": {},
   "outputs": [
    {
     "data": {
      "image/png": "[encoded data removed]",
      "text/plain": [
       "<Figure size 432x288 with 1 Axes>"
      ]
     },
     "metadata": {
      "needs_background": "light"
     },
     "output_type": "display_data"
    }
   ],
   "source": [
    "x_test_pred = model.predict(X_test_anomaly)\n",
    "test_mae_loss = np.mean(np.abs(x_test_pred - X_test_anomaly), axis=1)\n",
    "plt.hist(test_mae_loss, bins=10)\n",
    "plt.xlabel(\"Test MAE loss\")\n",
    "plt.ylabel(\"No of samples\")\n",
    "plt.show()"
   ]
  },
  {
   "cell_type": "code",
   "execution_count": 35,
   "metadata": {},
   "outputs": [
    {
     "name": "stdout",
     "output_type": "stream",
     "text": [
      "490\n",
      "66\n"
     ]
    }
   ],
   "source": [
    "#predicted_class1 = []\n",
    "\n",
    "\n",
    "predicted_bad = test_mae_loss[test_mae_loss>0.15]\n",
    "predicted_ok = test_mae_loss[test_mae_loss<0.15]\n",
    "\n",
    "\"\"\"\n",
    "\n",
    "print(len(predicted_ok))\n",
    "print(len(predicted_bad))\n",
    "\n",
    "for sample in X_test_anomaly:\n",
    "    if model.evaluate(sample, sample, verbose=3) > 0.08:\n",
    "        predicted_class1.append(1)\n",
    "    else:\n",
    "        predicted_class1.append(0)\n",
    "\"\"\"\n",
    "\n",
    "print(len(predicted_ok))\n",
    "print(len(predicted_bad))"
   ]
  },
  {
   "cell_type": "code",
   "execution_count": null,
   "metadata": {},
   "outputs": [],
   "source": []
  },
  {
   "cell_type": "code",
   "execution_count": 20,
   "metadata": {},
   "outputs": [],
   "source": [
    "predicted_class2 = []\n",
    "\n",
    "for sample in X_test_anomaly2:\n",
    "    if model.evaluate(sample, sample, verbose=3) > 0.08:\n",
    "        predicted_class2.append(1)\n",
    "    else:\n",
    "        predicted_class2.append(0)"
   ]
  },
  {
   "cell_type": "code",
   "execution_count": null,
   "metadata": {},
   "outputs": [],
   "source": []
  },
  {
   "cell_type": "code",
   "execution_count": 37,
   "metadata": {},
   "outputs": [
    {
     "data": {
      "image/png": "[encoded data removed]",
      "text/plain": [
       "<Figure size 432x288 with 1 Axes>"
      ]
     },
     "metadata": {
      "needs_background": "light"
     },
     "output_type": "display_data"
    }
   ],
   "source": [
    "x_test_pred = model.predict(X_test_anomaly3)\n",
    "test_mae_loss = np.mean(np.abs(x_test_pred - X_test_anomaly3), axis=1)\n",
    "plt.hist(test_mae_loss, bins=10)\n",
    "plt.xlabel(\"Test MAE loss\")\n",
    "plt.ylabel(\"No of samples\")\n",
    "plt.show()\n",
    "\n"
   ]
  }
 ],
 "metadata": {
  "kernelspec": {
   "display_name": "Python 3",
   "language": "python",
   "name": "python3"
  },
  "language_info": {
   "codemirror_mode": {
    "name": "ipython",
    "version": 3
   },
   "file_extension": ".py",
   "mimetype": "text/x-python",
   "name": "python",
   "nbconvert_exporter": "python",
   "pygments_lexer": "ipython3",
   "version": "3.7.7"
  }
 },
 "nbformat": 4,
 "nbformat_minor": 4
}
